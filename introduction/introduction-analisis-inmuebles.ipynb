{
 "cells": [
  {
   "metadata": {},
   "cell_type": "markdown",
   "source": [
    "# Introduccion a Pandas mediante el analisis de un archivo de precios inmuebles.\n",
    "Este cuaderno muestra algunos ejercicios basicos sobre el uso de la libreria Pandas para la gesiton de datos.\n",
    "## Importar base de datos"
   ],
   "id": "964d804cd9c6164c"
  },
  {
   "cell_type": "code",
   "id": "initial_id",
   "metadata": {
    "collapsed": true,
    "ExecuteTime": {
     "end_time": "2025-08-03T05:40:50.738687Z",
     "start_time": "2025-08-03T05:40:47.788343Z"
    }
   },
   "source": [
    "import pandas as pd\n",
    "from nltk.corpus import state_union\n",
    "\n",
    "rent_data = pd.read_csv('alquiler.csv', delimiter=';')\n",
    "\n",
    "print(rent_data)"
   ],
   "outputs": [
    {
     "name": "stdout",
     "output_type": "stream",
     "text": [
      "                          Tipo               Colonia  Habitaciones  Garages  \\\n",
      "0                     Cocineta               Condesa             1        0   \n",
      "1                         Casa               Polanco             2        0   \n",
      "2      Conjunto Comercial/Sala              Santa Fe             0        4   \n",
      "3                 Departamento      Centro Histórico             1        0   \n",
      "4                 Departamento             Del Valle             1        0   \n",
      "...                        ...                   ...           ...      ...   \n",
      "25116  Cochera/Estacionamiento      Centro Histórico             0        0   \n",
      "25117                 Cocineta      Centro Histórico             0        0   \n",
      "25118             Departamento               Mixcoac             2        1   \n",
      "25119             Departamento  Lomas de Chapultepec             2        0   \n",
      "25120  Conjunto Comercial/Sala      Centro Histórico             0        0   \n",
      "\n",
      "       Suites  Area    Valor  Condominio  Impuesto  \n",
      "0           0    40   5950.0      1750.0     210.0  \n",
      "1           1   100  24500.0         NaN       NaN  \n",
      "2           0   150  18200.0     14070.0    3888.5  \n",
      "3           0    15   2800.0      1365.0      70.0  \n",
      "4           0    48   2800.0       805.0       NaN  \n",
      "...       ...   ...      ...         ...       ...  \n",
      "25116       0   755  49000.0         NaN       NaN  \n",
      "25117       0    27   2800.0      1225.0      87.5  \n",
      "25118       0    48   4900.0      1781.5     129.5  \n",
      "25119       0    70  10500.0      2660.0       NaN  \n",
      "25120       0   250  22750.0     14721.0    3881.5  \n",
      "\n",
      "[25121 rows x 9 columns]\n"
     ]
    }
   ],
   "execution_count": 1
  },
  {
   "metadata": {},
   "cell_type": "markdown",
   "source": "## Vista de algunos datos",
   "id": "3507e736c78a62bc"
  },
  {
   "metadata": {
    "ExecuteTime": {
     "end_time": "2025-08-03T05:40:50.816869Z",
     "start_time": "2025-08-03T05:40:50.789827Z"
    }
   },
   "cell_type": "code",
   "source": [
    "# Visualizacion de los primeros y los ultimos datos\n",
    "print(rent_data.head())\n",
    "print(rent_data.tail())"
   ],
   "id": "d678930e8cd2aaa",
   "outputs": [
    {
     "name": "stdout",
     "output_type": "stream",
     "text": [
      "                      Tipo           Colonia  Habitaciones  Garages  Suites  \\\n",
      "0                 Cocineta           Condesa             1        0       0   \n",
      "1                     Casa           Polanco             2        0       1   \n",
      "2  Conjunto Comercial/Sala          Santa Fe             0        4       0   \n",
      "3             Departamento  Centro Histórico             1        0       0   \n",
      "4             Departamento         Del Valle             1        0       0   \n",
      "\n",
      "   Area    Valor  Condominio  Impuesto  \n",
      "0    40   5950.0      1750.0     210.0  \n",
      "1   100  24500.0         NaN       NaN  \n",
      "2   150  18200.0     14070.0    3888.5  \n",
      "3    15   2800.0      1365.0      70.0  \n",
      "4    48   2800.0       805.0       NaN  \n",
      "                          Tipo               Colonia  Habitaciones  Garages  \\\n",
      "25116  Cochera/Estacionamiento      Centro Histórico             0        0   \n",
      "25117                 Cocineta      Centro Histórico             0        0   \n",
      "25118             Departamento               Mixcoac             2        1   \n",
      "25119             Departamento  Lomas de Chapultepec             2        0   \n",
      "25120  Conjunto Comercial/Sala      Centro Histórico             0        0   \n",
      "\n",
      "       Suites  Area    Valor  Condominio  Impuesto  \n",
      "25116       0   755  49000.0         NaN       NaN  \n",
      "25117       0    27   2800.0      1225.0      87.5  \n",
      "25118       0    48   4900.0      1781.5     129.5  \n",
      "25119       0    70  10500.0      2660.0       NaN  \n",
      "25120       0   250  22750.0     14721.0    3881.5  \n"
     ]
    }
   ],
   "execution_count": 2
  },
  {
   "metadata": {
    "ExecuteTime": {
     "end_time": "2025-08-03T05:40:50.984554Z",
     "start_time": "2025-08-03T05:40:50.970036Z"
    }
   },
   "cell_type": "code",
   "source": [
    "#Visualizando los primero 10 datos\n",
    "print(rent_data.head(10))"
   ],
   "id": "e868a966f284dc1d",
   "outputs": [
    {
     "name": "stdout",
     "output_type": "stream",
     "text": [
      "                      Tipo           Colonia  Habitaciones  Garages  Suites  \\\n",
      "0                 Cocineta           Condesa             1        0       0   \n",
      "1                     Casa           Polanco             2        0       1   \n",
      "2  Conjunto Comercial/Sala          Santa Fe             0        4       0   \n",
      "3             Departamento  Centro Histórico             1        0       0   \n",
      "4             Departamento         Del Valle             1        0       0   \n",
      "5       Casa de Condominio          Santa Fe             5        4       5   \n",
      "6  Conjunto Comercial/Sala  Centro Histórico             0        3       0   \n",
      "7             Departamento  Centro Histórico             1        0       0   \n",
      "8             Departamento           Condesa             1        0       1   \n",
      "9                 Cocineta           Condesa             1        0       0   \n",
      "\n",
      "   Area     Valor  Condominio  Impuesto  \n",
      "0    40    5950.0      1750.0     210.0  \n",
      "1   100   24500.0         NaN       NaN  \n",
      "2   150   18200.0     14070.0    3888.5  \n",
      "3    15    2800.0      1365.0      70.0  \n",
      "4    48    2800.0       805.0       NaN  \n",
      "5   750   77000.0         NaN       NaN  \n",
      "6   695  122500.0     67175.5   10605.0  \n",
      "7    36    4200.0         NaN       NaN  \n",
      "8    40    7000.0      1963.5     175.0  \n",
      "9    27    6300.0      1753.5       NaN  \n"
     ]
    }
   ],
   "execution_count": 3
  },
  {
   "metadata": {
    "ExecuteTime": {
     "end_time": "2025-08-03T05:40:51.231094Z",
     "start_time": "2025-08-03T05:40:51.213477Z"
    }
   },
   "cell_type": "code",
   "source": [
    "# Muestra de una muestra de datos\n",
    "print(rent_data.sample(10))"
   ],
   "id": "28601b72b49352",
   "outputs": [
    {
     "name": "stdout",
     "output_type": "stream",
     "text": [
      "                          Tipo           Colonia  Habitaciones  Garages  \\\n",
      "12960             Departamento        La Condesa             1        0   \n",
      "3925   Conjunto Comercial/Sala  Centro Histórico             0        0   \n",
      "6259   Conjunto Comercial/Sala  Centro Histórico             0        0   \n",
      "22647             Departamento          Narvarte             2        0   \n",
      "15268             Departamento           Condesa             3        2   \n",
      "5897              Departamento          Santa Fe             3        2   \n",
      "18354                     Casa         Atlalilco             2        0   \n",
      "22971             Departamento          Coyoacán             2        0   \n",
      "11052             Departamento          Santa Fe             3        2   \n",
      "1466                      Casa         San Ángel             4        4   \n",
      "\n",
      "       Suites  Area    Valor  Condominio  Impuesto  \n",
      "12960       0    52   5950.0      1960.0       NaN  \n",
      "3925        0    30   3500.0      2100.0     350.0  \n",
      "6259        0   245  87500.0     29995.0       NaN  \n",
      "22647       0    65   5600.0      2730.0       NaN  \n",
      "15268       1   120  15750.0      4550.0    8050.0  \n",
      "5897        2   216  35000.0     13331.5    4781.0  \n",
      "18354       0   160   7000.0         NaN    4200.0  \n",
      "22971       0    90   9450.0      5523.0     854.0  \n",
      "11052       3   120  14000.0      5075.0       NaN  \n",
      "1466        2   450  49000.0         NaN   25200.0  \n"
     ]
    }
   ],
   "execution_count": 4
  },
  {
   "metadata": {
    "ExecuteTime": {
     "end_time": "2025-08-03T05:40:51.558898Z",
     "start_time": "2025-08-03T05:40:51.539842Z"
    }
   },
   "cell_type": "code",
   "source": [
    "# Imprimimos el tipo de datos de pandas\n",
    "print(type(rent_data))"
   ],
   "id": "3867076c5ff36836",
   "outputs": [
    {
     "name": "stdout",
     "output_type": "stream",
     "text": [
      "<class 'pandas.core.frame.DataFrame'>\n"
     ]
    }
   ],
   "execution_count": 5
  },
  {
   "metadata": {},
   "cell_type": "markdown",
   "source": [
    "## Caracteristicas generales de los datos\n",
    "Exploracion inicial de los datos de la libreria pandas"
   ],
   "id": "db943e0c24268f4d"
  },
  {
   "metadata": {
    "ExecuteTime": {
     "end_time": "2025-08-03T05:40:51.714839Z",
     "start_time": "2025-08-03T05:40:51.689614Z"
    }
   },
   "cell_type": "code",
   "source": [
    "# Tamaño del dataset\n",
    "rent_data.shape"
   ],
   "id": "136657dbb7e3fb60",
   "outputs": [
    {
     "data": {
      "text/plain": [
       "(25121, 9)"
      ]
     },
     "execution_count": 6,
     "metadata": {},
     "output_type": "execute_result"
    }
   ],
   "execution_count": 6
  },
  {
   "metadata": {
    "ExecuteTime": {
     "end_time": "2025-08-03T05:40:51.823940Z",
     "start_time": "2025-08-03T05:40:51.812002Z"
    }
   },
   "cell_type": "code",
   "source": [
    "# Columnas del dataset\n",
    "rent_data.columns"
   ],
   "id": "9ffb8a3664fea83",
   "outputs": [
    {
     "data": {
      "text/plain": [
       "Index(['Tipo', 'Colonia', 'Habitaciones', 'Garages', 'Suites', 'Area', 'Valor',\n",
       "       'Condominio', 'Impuesto'],\n",
       "      dtype='object')"
      ]
     },
     "execution_count": 7,
     "metadata": {},
     "output_type": "execute_result"
    }
   ],
   "execution_count": 7
  },
  {
   "metadata": {
    "ExecuteTime": {
     "end_time": "2025-08-03T05:40:51.964853Z",
     "start_time": "2025-08-03T05:40:51.929776Z"
    }
   },
   "cell_type": "code",
   "source": [
    "# Informacion general del dataset\n",
    "rent_data.info()"
   ],
   "id": "a091cdfcffb611a2",
   "outputs": [
    {
     "name": "stdout",
     "output_type": "stream",
     "text": [
      "<class 'pandas.core.frame.DataFrame'>\n",
      "RangeIndex: 25121 entries, 0 to 25120\n",
      "Data columns (total 9 columns):\n",
      " #   Column        Non-Null Count  Dtype  \n",
      "---  ------        --------------  -----  \n",
      " 0   Tipo          25121 non-null  object \n",
      " 1   Colonia       25121 non-null  object \n",
      " 2   Habitaciones  25121 non-null  int64  \n",
      " 3   Garages       25121 non-null  int64  \n",
      " 4   Suites        25121 non-null  int64  \n",
      " 5   Area          25121 non-null  int64  \n",
      " 6   Valor         25107 non-null  float64\n",
      " 7   Condominio    22495 non-null  float64\n",
      " 8   Impuesto      18037 non-null  float64\n",
      "dtypes: float64(3), int64(4), object(2)\n",
      "memory usage: 1.7+ MB\n"
     ]
    }
   ],
   "execution_count": 8
  },
  {
   "metadata": {
    "ExecuteTime": {
     "end_time": "2025-08-03T05:40:52.074542Z",
     "start_time": "2025-08-03T05:40:52.062029Z"
    }
   },
   "cell_type": "code",
   "source": [
    "# Vista de una columna\n",
    "rent_data['Tipo']"
   ],
   "id": "7e625f6c01ebe5b7",
   "outputs": [
    {
     "data": {
      "text/plain": [
       "0                       Cocineta\n",
       "1                           Casa\n",
       "2        Conjunto Comercial/Sala\n",
       "3                   Departamento\n",
       "4                   Departamento\n",
       "                  ...           \n",
       "25116    Cochera/Estacionamiento\n",
       "25117                   Cocineta\n",
       "25118               Departamento\n",
       "25119               Departamento\n",
       "25120    Conjunto Comercial/Sala\n",
       "Name: Tipo, Length: 25121, dtype: object"
      ]
     },
     "execution_count": 9,
     "metadata": {},
     "output_type": "execute_result"
    }
   ],
   "execution_count": 9
  },
  {
   "metadata": {
    "ExecuteTime": {
     "end_time": "2025-08-03T05:40:52.323808Z",
     "start_time": "2025-08-03T05:40:52.292258Z"
    }
   },
   "cell_type": "code",
   "source": [
    "# Vista de dos columnas, ahora devuelve un dataframe\n",
    "rent_data[['Habitaciones', 'Valor']]"
   ],
   "id": "c6d1252dfb69b387",
   "outputs": [
    {
     "data": {
      "text/plain": [
       "       Habitaciones    Valor\n",
       "0                 1   5950.0\n",
       "1                 2  24500.0\n",
       "2                 0  18200.0\n",
       "3                 1   2800.0\n",
       "4                 1   2800.0\n",
       "...             ...      ...\n",
       "25116             0  49000.0\n",
       "25117             0   2800.0\n",
       "25118             2   4900.0\n",
       "25119             2  10500.0\n",
       "25120             0  22750.0\n",
       "\n",
       "[25121 rows x 2 columns]"
      ],
      "text/html": [
       "<div>\n",
       "<style scoped>\n",
       "    .dataframe tbody tr th:only-of-type {\n",
       "        vertical-align: middle;\n",
       "    }\n",
       "\n",
       "    .dataframe tbody tr th {\n",
       "        vertical-align: top;\n",
       "    }\n",
       "\n",
       "    .dataframe thead th {\n",
       "        text-align: right;\n",
       "    }\n",
       "</style>\n",
       "<table border=\"1\" class=\"dataframe\">\n",
       "  <thead>\n",
       "    <tr style=\"text-align: right;\">\n",
       "      <th></th>\n",
       "      <th>Habitaciones</th>\n",
       "      <th>Valor</th>\n",
       "    </tr>\n",
       "  </thead>\n",
       "  <tbody>\n",
       "    <tr>\n",
       "      <th>0</th>\n",
       "      <td>1</td>\n",
       "      <td>5950.0</td>\n",
       "    </tr>\n",
       "    <tr>\n",
       "      <th>1</th>\n",
       "      <td>2</td>\n",
       "      <td>24500.0</td>\n",
       "    </tr>\n",
       "    <tr>\n",
       "      <th>2</th>\n",
       "      <td>0</td>\n",
       "      <td>18200.0</td>\n",
       "    </tr>\n",
       "    <tr>\n",
       "      <th>3</th>\n",
       "      <td>1</td>\n",
       "      <td>2800.0</td>\n",
       "    </tr>\n",
       "    <tr>\n",
       "      <th>4</th>\n",
       "      <td>1</td>\n",
       "      <td>2800.0</td>\n",
       "    </tr>\n",
       "    <tr>\n",
       "      <th>...</th>\n",
       "      <td>...</td>\n",
       "      <td>...</td>\n",
       "    </tr>\n",
       "    <tr>\n",
       "      <th>25116</th>\n",
       "      <td>0</td>\n",
       "      <td>49000.0</td>\n",
       "    </tr>\n",
       "    <tr>\n",
       "      <th>25117</th>\n",
       "      <td>0</td>\n",
       "      <td>2800.0</td>\n",
       "    </tr>\n",
       "    <tr>\n",
       "      <th>25118</th>\n",
       "      <td>2</td>\n",
       "      <td>4900.0</td>\n",
       "    </tr>\n",
       "    <tr>\n",
       "      <th>25119</th>\n",
       "      <td>2</td>\n",
       "      <td>10500.0</td>\n",
       "    </tr>\n",
       "    <tr>\n",
       "      <th>25120</th>\n",
       "      <td>0</td>\n",
       "      <td>22750.0</td>\n",
       "    </tr>\n",
       "  </tbody>\n",
       "</table>\n",
       "<p>25121 rows × 2 columns</p>\n",
       "</div>"
      ]
     },
     "execution_count": 10,
     "metadata": {},
     "output_type": "execute_result"
    }
   ],
   "execution_count": 10
  },
  {
   "metadata": {},
   "cell_type": "markdown",
   "source": [
    "### Ejercicios\n",
    "1. Importa el archivo alumnos.csv y almacena su contenido en un DataFrame de Pandas.\n",
    "\n",
    "2. Visualiza las primeras 7 filas del DataFrame y las últimas 5.\n",
    "\n",
    "3. Verifica la cantidad de filas y columnas en este DataFrame.\n",
    "\n",
    "4. Explora las columnas del DataFrame y analiza los tipos de datos presentes en cada columna."
   ],
   "id": "b5325835d6c501c3"
  },
  {
   "metadata": {
    "ExecuteTime": {
     "end_time": "2025-08-03T05:40:52.525504Z",
     "start_time": "2025-08-03T05:40:52.497934Z"
    }
   },
   "cell_type": "code",
   "source": [
    "students_data = pd.read_csv('alumnos.csv')\n",
    "print(students_data.head(7))\n",
    "print(students_data.tail())\n",
    "print(students_data.shape)"
   ],
   "id": "524d9ed1f5ff1413",
   "outputs": [
    {
     "name": "stdout",
     "output_type": "stream",
     "text": [
      "    Nombre  Edad  Nota Aprobado\n",
      "0  Alberto    20   7.5     True\n",
      "1      Ana    18   NaN    False\n",
      "2   Camila    27   2.5    False\n",
      "3    David    18   5.0    False\n",
      "4    Brian    21  10.0     True\n",
      "5    Bruna    23   NaN    False\n",
      "6  Daniela    21   7.0     True\n",
      "    Nombre  Edad  Nota   Aprobado\n",
      "13  Miriam    25   9.0       True\n",
      "14   Pablo    37   NaN      False\n",
      "15  Milena    29   7.0       True\n",
      "16   Lucas    33   NaN      False\n",
      "17   Nadia    34   8.0  Verdadero\n",
      "(18, 4)\n"
     ]
    }
   ],
   "execution_count": 11
  },
  {
   "metadata": {
    "ExecuteTime": {
     "end_time": "2025-08-03T05:40:52.885326Z",
     "start_time": "2025-08-03T05:40:52.862299Z"
    }
   },
   "cell_type": "code",
   "source": "print(students_data.info())",
   "id": "bc8c144c8634cd4b",
   "outputs": [
    {
     "name": "stdout",
     "output_type": "stream",
     "text": [
      "<class 'pandas.core.frame.DataFrame'>\n",
      "RangeIndex: 18 entries, 0 to 17\n",
      "Data columns (total 4 columns):\n",
      " #   Column    Non-Null Count  Dtype  \n",
      "---  ------    --------------  -----  \n",
      " 0   Nombre    18 non-null     object \n",
      " 1   Edad      18 non-null     int64  \n",
      " 2   Nota      12 non-null     float64\n",
      " 3   Aprobado  18 non-null     object \n",
      "dtypes: float64(1), int64(1), object(2)\n",
      "memory usage: 704.0+ bytes\n",
      "None\n"
     ]
    }
   ],
   "execution_count": 12
  },
  {
   "metadata": {
    "ExecuteTime": {
     "end_time": "2025-08-03T05:40:53.086043Z",
     "start_time": "2025-08-03T05:40:53.061308Z"
    }
   },
   "cell_type": "code",
   "source": [
    "# Datos generales numericos de la tabla\n",
    "print(students_data.describe())"
   ],
   "id": "2e270877d54a7373",
   "outputs": [
    {
     "name": "stdout",
     "output_type": "stream",
     "text": [
      "            Edad       Nota\n",
      "count  18.000000  12.000000\n",
      "mean   25.500000   6.841667\n",
      "std     6.070662   2.264532\n",
      "min    18.000000   2.500000\n",
      "25%    21.000000   5.450000\n",
      "50%    24.500000   7.000000\n",
      "75%    28.750000   8.250000\n",
      "max    37.000000  10.000000\n"
     ]
    }
   ],
   "execution_count": 13
  },
  {
   "metadata": {},
   "cell_type": "markdown",
   "source": [
    "## Analisis exploratorio de los datos\n",
    "**Preguntas a responder:**\n",
    "- ¿Cuales son los valores promedio de alquiler por tipo de propiedad?\n",
    "- ¿Cual es el porcentaje de cada tipo de propiedad en nuestra base de datos?"
   ],
   "id": "9171042473126be6"
  },
  {
   "metadata": {
    "ExecuteTime": {
     "end_time": "2025-08-03T05:40:53.209935Z",
     "start_time": "2025-08-03T05:40:53.186571Z"
    }
   },
   "cell_type": "code",
   "source": [
    "# Valores promedio de alquiler por tipo de propiedad\n",
    "# Primeramente se agruparán los datos segun el tipo de propiedad, se sacara el promedio y se presentara el resultado en un dataFrame. Se ordenara de manera ascendente por el campo 'Valor'.\n",
    "rent_by_type = rent_data.groupby('Tipo')[['Valor']].mean().sort_values('Valor')\n",
    "print(rent_by_type)"
   ],
   "id": "99f71199628323d5",
   "outputs": [
    {
     "name": "stdout",
     "output_type": "stream",
     "text": [
      "                                    Valor\n",
      "Tipo                                     \n",
      "Cocineta                      4425.856061\n",
      "Posada/Chalé                  5180.000000\n",
      "Casa de Vecindad              5961.740506\n",
      "Cochera/Estacionamiento       6995.454545\n",
      "Estudio                       8400.000000\n",
      "Loft                          9924.526316\n",
      "Departamento en Hotel        16285.430769\n",
      "Departamento                 18683.269431\n",
      "Casa                         31453.177064\n",
      "Tienda en Centro Comercial   32556.785714\n",
      "Rancho                       38014.375000\n",
      "Casa de Condominio           51428.609836\n",
      "Casa Comercial               54735.841584\n",
      "Tienda/Salón                 56263.544252\n",
      "Conjunto Comercial/Sala      57675.214550\n",
      "Hotel                        87500.000000\n",
      "Loteo/Condominio             92166.666667\n",
      "Terreno Estándar            135364.444444\n",
      "Galpón/Depósito/Almacén     299984.140138\n",
      "Edificio Completo           409418.080645\n",
      "Industria                   420000.000000\n"
     ]
    }
   ],
   "execution_count": 14
  },
  {
   "metadata": {
    "ExecuteTime": {
     "end_time": "2025-08-03T05:40:54.546398Z",
     "start_time": "2025-08-03T05:40:53.263965Z"
    }
   },
   "cell_type": "code",
   "source": "rent_by_type.plot(kind = 'barh', figsize=(12,8), color='blue')",
   "id": "3fc00979a60ce749",
   "outputs": [
    {
     "data": {
      "text/plain": [
       "<Axes: ylabel='Tipo'>"
      ]
     },
     "execution_count": 15,
     "metadata": {},
     "output_type": "execute_result"
    },
    {
     "data": {
      "text/plain": [
       "<Figure size 1200x800 with 1 Axes>"
      ],
      "image/png": "[encoded data removed]"
     },
     "metadata": {},
     "output_type": "display_data"
    }
   ],
   "execution_count": 15
  },
  {
   "metadata": {
    "ExecuteTime": {
     "end_time": "2025-08-03T05:40:54.609340Z",
     "start_time": "2025-08-03T05:40:54.595762Z"
    }
   },
   "cell_type": "code",
   "source": [
    "# Explorando los distintos tipos de inmuebles para extraer inmuebles comerciales\n",
    "rent_data.Tipo.unique()"
   ],
   "id": "6101c86b8960b40d",
   "outputs": [
    {
     "data": {
      "text/plain": [
       "array(['Cocineta', 'Casa', 'Conjunto Comercial/Sala', 'Departamento',\n",
       "       'Casa de Condominio', 'Edificio Completo', 'Departamento en Hotel',\n",
       "       'Tienda/Salón', 'Casa Comercial', 'Casa de Vecindad',\n",
       "       'Terreno Estándar', 'Cochera/Estacionamiento', 'Loft',\n",
       "       'Galpón/Depósito/Almacén', 'Tienda en Centro Comercial', 'Rancho',\n",
       "       'Posada/Chalé', 'Estudio', 'Hotel', 'Loteo/Condominio',\n",
       "       'Industria'], dtype=object)"
      ]
     },
     "execution_count": 16,
     "metadata": {},
     "output_type": "execute_result"
    }
   ],
   "execution_count": 16
  },
  {
   "metadata": {
    "ExecuteTime": {
     "end_time": "2025-08-03T05:40:54.704576Z",
     "start_time": "2025-08-03T05:40:54.692017Z"
    }
   },
   "cell_type": "code",
   "source": [
    "commercial_property = ['Conjunto Comercial/Sala', 'Edificio Completo', 'Tienda/Salón', 'Casa Comercial', 'Terreno Estándar', 'Cochera/Estacionamiento',  'Galpón/Depósito/Almacén', 'Tienda en Centro Comercial', 'Hotel', 'Loteo/Condominio',\n",
    "       'Industria']"
   ],
   "id": "128327a038bdd5b0",
   "outputs": [],
   "execution_count": 17
  },
  {
   "metadata": {
    "ExecuteTime": {
     "end_time": "2025-08-03T05:40:54.782821Z",
     "start_time": "2025-08-03T05:40:54.754264Z"
    }
   },
   "cell_type": "code",
   "source": [
    "## query para solicitar solo los tipos de inmuebles que no aparecen en la lista\n",
    "rent_not_commercial_property = rent_data.query('@commercial_property not in Tipo')\n",
    "print(rent_not_commercial_property)"
   ],
   "id": "c5e64c080f40861e",
   "outputs": [
    {
     "name": "stdout",
     "output_type": "stream",
     "text": [
      "                     Tipo               Colonia  Habitaciones  Garages  \\\n",
      "0                Cocineta               Condesa             1        0   \n",
      "1                    Casa               Polanco             2        0   \n",
      "3            Departamento      Centro Histórico             1        0   \n",
      "4            Departamento             Del Valle             1        0   \n",
      "5      Casa de Condominio              Santa Fe             5        4   \n",
      "...                   ...                   ...           ...      ...   \n",
      "25114        Departamento              Narvarte             1        0   \n",
      "25115  Casa de Condominio              Santa Fe             5        3   \n",
      "25117            Cocineta      Centro Histórico             0        0   \n",
      "25118        Departamento               Mixcoac             2        1   \n",
      "25119        Departamento  Lomas de Chapultepec             2        0   \n",
      "\n",
      "       Suites  Area    Valor  Condominio  Impuesto  \n",
      "0           0    40   5950.0      1750.0     210.0  \n",
      "1           1   100  24500.0         NaN       NaN  \n",
      "3           0    15   2800.0      1365.0      70.0  \n",
      "4           0    48   2800.0       805.0       NaN  \n",
      "5           5   750  77000.0         NaN       NaN  \n",
      "...       ...   ...      ...         ...       ...  \n",
      "25114       0    28   3500.0      1260.0      87.5  \n",
      "25115       4   450  52500.0      5988.5    8162.0  \n",
      "25117       0    27   2800.0      1225.0      87.5  \n",
      "25118       0    48   4900.0      1781.5     129.5  \n",
      "25119       0    70  10500.0      2660.0       NaN  \n",
      "\n",
      "[17309 rows x 9 columns]\n"
     ]
    }
   ],
   "execution_count": 18
  },
  {
   "metadata": {
    "ExecuteTime": {
     "end_time": "2025-08-03T05:40:54.859458Z",
     "start_time": "2025-08-03T05:40:54.831002Z"
    }
   },
   "cell_type": "code",
   "source": [
    "rent_not_commercial_property_by_type = rent_not_commercial_property.groupby('Tipo')[['Valor']].mean().sort_values('Valor')\n",
    "print(rent_not_commercial_property_by_type)"
   ],
   "id": "b514efe7d90c3a47",
   "outputs": [
    {
     "name": "stdout",
     "output_type": "stream",
     "text": [
      "                              Valor\n",
      "Tipo                               \n",
      "Cocineta                4425.856061\n",
      "Posada/Chalé            5180.000000\n",
      "Casa de Vecindad        5961.740506\n",
      "Estudio                 8400.000000\n",
      "Loft                    9924.526316\n",
      "Departamento en Hotel  16285.430769\n",
      "Departamento           18683.269431\n",
      "Casa                   31453.177064\n",
      "Rancho                 38014.375000\n",
      "Casa de Condominio     51428.609836\n"
     ]
    }
   ],
   "execution_count": 19
  },
  {
   "metadata": {
    "ExecuteTime": {
     "end_time": "2025-08-03T05:40:55.341567Z",
     "start_time": "2025-08-03T05:40:54.956645Z"
    }
   },
   "cell_type": "code",
   "source": "rent_not_commercial_property_by_type.plot(kind = 'barh', figsize=(12,8), color='purple')",
   "id": "fff48fcc3a982554",
   "outputs": [
    {
     "data": {
      "text/plain": [
       "<Axes: ylabel='Tipo'>"
      ]
     },
     "execution_count": 20,
     "metadata": {},
     "output_type": "execute_result"
    },
    {
     "data": {
      "text/plain": [
       "<Figure size 1200x800 with 1 Axes>"
      ],
      "image/png": "[encoded data removed]"
     },
     "metadata": {},
     "output_type": "display_data"
    }
   ],
   "execution_count": 20
  },
  {
   "metadata": {
    "ExecuteTime": {
     "end_time": "2025-08-03T05:40:55.404702Z",
     "start_time": "2025-08-03T05:40:55.391188Z"
    }
   },
   "cell_type": "code",
   "source": [
    "# Porcentaje de cada tipo de inmueble en la base de datos\n",
    "rent_not_commercial_property.Tipo.unique()"
   ],
   "id": "52f1033e31a24a35",
   "outputs": [
    {
     "data": {
      "text/plain": [
       "array(['Cocineta', 'Casa', 'Departamento', 'Casa de Condominio',\n",
       "       'Departamento en Hotel', 'Casa de Vecindad', 'Loft', 'Rancho',\n",
       "       'Posada/Chalé', 'Estudio'], dtype=object)"
      ]
     },
     "execution_count": 21,
     "metadata": {},
     "output_type": "execute_result"
    }
   ],
   "execution_count": 21
  },
  {
   "metadata": {
    "ExecuteTime": {
     "end_time": "2025-08-03T05:40:55.841968Z",
     "start_time": "2025-08-03T05:40:55.484494Z"
    }
   },
   "cell_type": "code",
   "source": [
    "percentage_not_commercial_property= rent_not_commercial_property.Tipo.value_counts(normalize=True).to_frame()\n",
    "percentage_not_commercial_property.plot(kind='bar', figsize=(12,8), color='red', xlabel='Tipo', ylabel='Porcentaje')"
   ],
   "id": "d08d7312a4862cf5",
   "outputs": [
    {
     "data": {
      "text/plain": [
       "<Axes: xlabel='Tipo', ylabel='Porcentaje'>"
      ]
     },
     "execution_count": 22,
     "metadata": {},
     "output_type": "execute_result"
    },
    {
     "data": {
      "text/plain": [
       "<Figure size 1200x800 with 1 Axes>"
      ],
      "image/png": "[encoded data removed]"
     },
     "metadata": {},
     "output_type": "display_data"
    }
   ],
   "execution_count": 22
  },
  {
   "metadata": {
    "ExecuteTime": {
     "end_time": "2025-08-03T05:40:55.936691Z",
     "start_time": "2025-08-03T05:40:55.907897Z"
    }
   },
   "cell_type": "code",
   "source": [
    "apartment_rent = rent_not_commercial_property.query('Tipo == \"Departamento\"')\n",
    "print(apartment_rent)"
   ],
   "id": "75f512393903829e",
   "outputs": [
    {
     "name": "stdout",
     "output_type": "stream",
     "text": [
      "               Tipo               Colonia  Habitaciones  Garages  Suites  \\\n",
      "3      Departamento      Centro Histórico             1        0       0   \n",
      "4      Departamento             Del Valle             1        0       0   \n",
      "7      Departamento      Centro Histórico             1        0       0   \n",
      "8      Departamento               Condesa             1        0       1   \n",
      "10     Departamento               Condesa             4        3       1   \n",
      "...             ...                   ...           ...      ...     ...   \n",
      "25111  Departamento  Lomas de Chapultepec             3        0       1   \n",
      "25113  Departamento              Coyoacán             3        1       2   \n",
      "25114  Departamento              Narvarte             1        0       0   \n",
      "25118  Departamento               Mixcoac             2        1       0   \n",
      "25119  Departamento  Lomas de Chapultepec             2        0       0   \n",
      "\n",
      "       Area    Valor  Condominio  Impuesto  \n",
      "3        15   2800.0      1365.0      70.0  \n",
      "4        48   2800.0       805.0       NaN  \n",
      "7        36   4200.0         NaN       NaN  \n",
      "8        40   7000.0      1963.5     175.0  \n",
      "10      243  45500.0      7000.0    2810.5  \n",
      "...     ...      ...         ...       ...  \n",
      "25111    80  10500.0      3535.0     871.5  \n",
      "25113   150  52500.0      4900.0    2100.0  \n",
      "25114    28   3500.0      1260.0      87.5  \n",
      "25118    48   4900.0      1781.5     129.5  \n",
      "25119    70  10500.0      2660.0       NaN  \n",
      "\n",
      "[14764 rows x 9 columns]\n"
     ]
    }
   ],
   "execution_count": 23
  },
  {
   "metadata": {},
   "cell_type": "markdown",
   "source": [
    "### Ejercicios\n",
    "1. Calcular el promedio de habitaciones por departamento\n",
    "2. Verificar cuantas colonias unicas existen en nuestra base de datos\n",
    "3. Analizar que colonias tienen el promedio de alquiler más alto\n",
    "4. Crear un gráfico de barras horizontales que muestra las 5 colonias con los promedio de alquiler mas altos"
   ],
   "id": "e509dec2be35c3c1"
  },
  {
   "metadata": {
    "ExecuteTime": {
     "end_time": "2025-08-03T05:40:56.016048Z",
     "start_time": "2025-08-03T05:40:56.000011Z"
    }
   },
   "cell_type": "code",
   "source": [
    "# Calculo en el promedio de habitaciones por departamento\n",
    "print(round(apartment_rent['Habitaciones'].mean(), 2))"
   ],
   "id": "e8449425b735dab4",
   "outputs": [
    {
     "name": "stdout",
     "output_type": "stream",
     "text": [
      "2.5\n"
     ]
    }
   ],
   "execution_count": 24
  },
  {
   "metadata": {
    "ExecuteTime": {
     "end_time": "2025-08-03T05:40:56.092433Z",
     "start_time": "2025-08-03T05:40:56.079396Z"
    }
   },
   "cell_type": "code",
   "source": [
    "# Cuantas colonias existen en la base de datos total\n",
    "print(len(rent_data.Colonia.unique()))\n",
    "# Cuantas colonias existen para los departamentos\n",
    "print(len(apartment_rent.Colonia.unique()))"
   ],
   "id": "4147d7a6a1e8da6c",
   "outputs": [
    {
     "name": "stdout",
     "output_type": "stream",
     "text": [
      "88\n",
      "83\n"
     ]
    }
   ],
   "execution_count": 25
  },
  {
   "metadata": {
    "ExecuteTime": {
     "end_time": "2025-08-03T05:40:56.215202Z",
     "start_time": "2025-08-03T05:40:56.187084Z"
    }
   },
   "cell_type": "code",
   "source": [
    "# Colonias por promedio de alquiler mas alto\n",
    "apartment_rent_by_hood = apartment_rent.groupby('Colonia')[['Valor']].mean().sort_values('Valor', ascending=False)\n",
    "print(apartment_rent_by_hood.head(10))\n"
   ],
   "id": "5865dfe546723e34",
   "outputs": [
    {
     "name": "stdout",
     "output_type": "stream",
     "text": [
      "                             Valor\n",
      "Colonia                           \n",
      "Los Alpes             54250.000000\n",
      "Bosques de Aragón     35948.718750\n",
      "Coyoacán              33205.218609\n",
      "Roma                  32530.388539\n",
      "Lomas de Chapultepec  30232.165189\n",
      "Bosques de las Lomas  28119.694274\n",
      "Santa Fe              19541.149118\n",
      "Tlalpan               17537.187500\n",
      "Ajusco                17150.000000\n",
      "Polanco               16683.013699\n"
     ]
    }
   ],
   "execution_count": 26
  },
  {
   "metadata": {
    "ExecuteTime": {
     "end_time": "2025-08-03T05:40:56.601266Z",
     "start_time": "2025-08-03T05:40:56.283240Z"
    }
   },
   "cell_type": "code",
   "source": [
    "# 5 colonias con el alquiler más alto\n",
    "apartment_rent_by_hood.head(5).plot(kind='barh', figsize=(12,8), color='yellow')"
   ],
   "id": "3a803f885468996a",
   "outputs": [
    {
     "data": {
      "text/plain": [
       "<Axes: ylabel='Colonia'>"
      ]
     },
     "execution_count": 27,
     "metadata": {},
     "output_type": "execute_result"
    },
    {
     "data": {
      "text/plain": [
       "<Figure size 1200x800 with 1 Axes>"
      ],
      "image/png": "[encoded data removed]"
     },
     "metadata": {},
     "output_type": "display_data"
    }
   ],
   "execution_count": 27
  },
  {
   "metadata": {},
   "cell_type": "markdown",
   "source": [
    "## Tratamiento de valores nulos\n",
    "Tratar los datos faltantes para apropiarlo para un modelo de machine learning"
   ],
   "id": "a1ed9fe54027cf46"
  },
  {
   "metadata": {
    "ExecuteTime": {
     "end_time": "2025-08-03T05:40:56.679241Z",
     "start_time": "2025-08-03T05:40:56.651910Z"
    }
   },
   "cell_type": "code",
   "source": [
    "# Cantidad total de valores nulos por columna\n",
    "print(apartment_rent.isnull().sum())"
   ],
   "id": "88603747440b5448",
   "outputs": [
    {
     "name": "stdout",
     "output_type": "stream",
     "text": [
      "Tipo               0\n",
      "Colonia            0\n",
      "Habitaciones       0\n",
      "Garages            0\n",
      "Suites             0\n",
      "Area               0\n",
      "Valor              7\n",
      "Condominio       493\n",
      "Impuesto        3797\n",
      "dtype: int64\n"
     ]
    }
   ],
   "execution_count": 28
  },
  {
   "metadata": {
    "ExecuteTime": {
     "end_time": "2025-08-03T05:40:56.822224Z",
     "start_time": "2025-08-03T05:40:56.791430Z"
    }
   },
   "cell_type": "code",
   "source": [
    "# Rellenamos los valores nulos con 0\n",
    "apartment_rent = apartment_rent.fillna(0)\n",
    "\n",
    "# Verificamos los datos nulos\n",
    "print(apartment_rent.isnull().sum())"
   ],
   "id": "7b2eb0c02d43650e",
   "outputs": [
    {
     "name": "stdout",
     "output_type": "stream",
     "text": [
      "Tipo            0\n",
      "Colonia         0\n",
      "Habitaciones    0\n",
      "Garages         0\n",
      "Suites          0\n",
      "Area            0\n",
      "Valor           0\n",
      "Condominio      0\n",
      "Impuesto        0\n",
      "dtype: int64\n"
     ]
    }
   ],
   "execution_count": 29
  },
  {
   "metadata": {},
   "cell_type": "markdown",
   "source": [
    "## Remover registros inconsistentes\n",
    "Tratamiento de valores que no cuadran en el dataset. Se trata de remover los datos con valores de alquiler igual a 0 en condominio y apartamento"
   ],
   "id": "fe4e36b71be62b7e"
  },
  {
   "metadata": {
    "ExecuteTime": {
     "end_time": "2025-08-03T05:40:56.948091Z",
     "start_time": "2025-08-03T05:40:56.903703Z"
    }
   },
   "cell_type": "code",
   "source": [
    "# Lista de condominios que cumplen con esa condicion\n",
    "print(apartment_rent.query('Valor == 0 | Condominio == 0'))"
   ],
   "id": "664aedd5c01be086",
   "outputs": [
    {
     "name": "stdout",
     "output_type": "stream",
     "text": [
      "               Tipo                 Colonia  Habitaciones  Garages  Suites  \\\n",
      "7      Departamento        Centro Histórico             1        0       0   \n",
      "49     Departamento                Santa Fe             2        1       1   \n",
      "74     Departamento  Ciudad de los Deportes             2        0       0   \n",
      "116    Departamento              El Rosedal             2        1       0   \n",
      "136    Departamento                Santa Fe             1        1       1   \n",
      "...             ...                     ...           ...      ...     ...   \n",
      "24721  Departamento                Doctores             2        0       0   \n",
      "24736  Departamento                 Condesa             1        0       0   \n",
      "24866  Departamento                 Condesa             3        0       0   \n",
      "24892  Departamento             Loma Bonita             1        0       0   \n",
      "25014  Departamento           Culhuacán CTM             3        0       1   \n",
      "\n",
      "       Area    Valor  Condominio  Impuesto  \n",
      "7        36   4200.0         0.0       0.0  \n",
      "49       70      0.0      3395.0     238.0  \n",
      "74       80   3500.0         0.0       0.0  \n",
      "116      50   3850.0         0.0       0.0  \n",
      "136      65   8225.0         0.0       0.0  \n",
      "...     ...      ...         ...       ...  \n",
      "24721    43   3150.0         0.0      56.0  \n",
      "24736    30   9100.0         0.0       0.0  \n",
      "24866   130  16100.0         0.0       0.0  \n",
      "24892    40   1925.0         0.0       0.0  \n",
      "25014    70   4200.0         0.0       0.0  \n",
      "\n",
      "[500 rows x 9 columns]\n"
     ]
    }
   ],
   "execution_count": 30
  },
  {
   "metadata": {
    "ExecuteTime": {
     "end_time": "2025-08-03T05:40:57.152002Z",
     "start_time": "2025-08-03T05:40:57.110911Z"
    }
   },
   "cell_type": "code",
   "source": [
    "# Indices de los registros inconsistentes\n",
    "non_valid_apartment_index = apartment_rent.query('Valor == 0 | Condominio == 0').index"
   ],
   "id": "abeda481e514e668",
   "outputs": [],
   "execution_count": 31
  },
  {
   "metadata": {
    "ExecuteTime": {
     "end_time": "2025-08-03T05:40:57.276885Z",
     "start_time": "2025-08-03T05:40:57.250311Z"
    }
   },
   "cell_type": "code",
   "source": [
    "# Eliminamos los registros que tienen los valores inconsistentes\n",
    "apartment_rent.drop(non_valid_apartment_index, inplace=True)"
   ],
   "id": "c8bbce1600d28041",
   "outputs": [],
   "execution_count": 32
  },
  {
   "metadata": {
    "ExecuteTime": {
     "end_time": "2025-08-03T05:40:57.400275Z",
     "start_time": "2025-08-03T05:40:57.373565Z"
    }
   },
   "cell_type": "code",
   "source": [
    "# Verificamos que ninguno de los datos restantes contenga valores inconsistentes\n",
    "print(apartment_rent.query('Valor == 0 | Condominio == 0').index)"
   ],
   "id": "cd3ec172bf8a30ac",
   "outputs": [
    {
     "name": "stdout",
     "output_type": "stream",
     "text": [
      "Int64Index([], dtype='int64')\n"
     ]
    }
   ],
   "execution_count": 33
  },
  {
   "metadata": {
    "ExecuteTime": {
     "end_time": "2025-08-03T05:40:57.494482Z",
     "start_time": "2025-08-03T05:40:57.482968Z"
    }
   },
   "cell_type": "code",
   "source": [
    "# Al tratarse de una variable donde el tipo es departamento en todos, se puede eliminar esta columna para ayudar a su visualización\n",
    "apartment_rent.drop('Tipo', axis=1, inplace=True)"
   ],
   "id": "1206912ba9ee10a7",
   "outputs": [],
   "execution_count": 34
  },
  {
   "metadata": {
    "ExecuteTime": {
     "end_time": "2025-08-03T05:40:57.586949Z",
     "start_time": "2025-08-03T05:40:57.574421Z"
    }
   },
   "cell_type": "code",
   "source": "print(apartment_rent.sample(10))",
   "id": "b77e4500d1e51bc6",
   "outputs": [
    {
     "name": "stdout",
     "output_type": "stream",
     "text": [
      "                      Colonia  Habitaciones  Garages  Suites  Area    Valor  \\\n",
      "6168         Centro Histórico             2        0       0    60   5250.0   \n",
      "5141                 Santa Fe             3        2       1   150  12600.0   \n",
      "24689  San Miguel Chapultepec             2        0       0    70   5250.0   \n",
      "22257        Centro Histórico             1        0       0    44   5600.0   \n",
      "19715                 Atlampa             2        0       0    50   3150.0   \n",
      "21680                    Roma             3        2       0    88  12250.0   \n",
      "15120                    Roma             1        0       0    22   2905.0   \n",
      "7240                  Condesa             3        0       0   120   9100.0   \n",
      "11649             Villa Coapa             2        1       0    61   2800.0   \n",
      "831                  Santa Fe             3        2       1   129  13300.0   \n",
      "\n",
      "       Condominio  Impuesto  \n",
      "6168       1750.0     455.0  \n",
      "5141       5673.5       0.0  \n",
      "24689      1085.0       0.0  \n",
      "22257      2166.5      63.0  \n",
      "19715       875.0       0.0  \n",
      "21680      3325.0       0.0  \n",
      "15120      2096.5     101.5  \n",
      "7240       4161.5     539.0  \n",
      "11649      1522.5       0.0  \n",
      "831        6650.0       0.0  \n"
     ]
    }
   ],
   "execution_count": 35
  },
  {
   "metadata": {},
   "cell_type": "markdown",
   "source": [
    "## Aplicar filtros\n",
    "Se desea evaluar solo propiedades en entornos especificos:\n",
    "1. Apartamentos que tienen un dormitorio y un alquiler menor a 4200\n",
    "2. Apartamentos que tienen dos dormitorios, un alquiler menor a 10500 y una superficie mayor a 70 m^2."
   ],
   "id": "539132a9c310d036"
  },
  {
   "metadata": {
    "ExecuteTime": {
     "end_time": "2025-08-03T05:40:57.708495Z",
     "start_time": "2025-08-03T05:40:57.680953Z"
    }
   },
   "cell_type": "code",
   "source": [
    "apartment_one_room = apartment_rent['Habitaciones'] == 1\n",
    "apartment_low_rent = apartment_rent['Valor'] < 4200\n",
    "apartment_one_room_low_rent = apartment_one_room & apartment_low_rent\n",
    "apartment_rent_one_room_low_rent = apartment_rent[apartment_one_room_low_rent]\n",
    "print(apartment_rent_one_room_low_rent)"
   ],
   "id": "b92aade18ae257e5",
   "outputs": [
    {
     "name": "stdout",
     "output_type": "stream",
     "text": [
      "                Colonia  Habitaciones  Garages  Suites  Area   Valor  \\\n",
      "3      Centro Histórico             1        0       0    15  2800.0   \n",
      "4             Del Valle             1        0       0    48  2800.0   \n",
      "19             Narvarte             1        0       0    48  2625.0   \n",
      "37     Centro Histórico             1        0       0    27  2625.0   \n",
      "61     Centro Histórico             1        1       0    37  3850.0   \n",
      "...                 ...           ...      ...     ...   ...     ...   \n",
      "24710         Nativitas             1        0       0    40  3150.0   \n",
      "24872        Peralvillo             1        0       1    69  3150.0   \n",
      "24880        La Condesa             1        0       0    46  3850.0   \n",
      "24943              Roma             1        0       0    21  3500.0   \n",
      "25114          Narvarte             1        0       0    28  3500.0   \n",
      "\n",
      "       Condominio  Impuesto  \n",
      "3          1365.0      70.0  \n",
      "4           805.0       0.0  \n",
      "19         2702.0      87.5  \n",
      "37         1298.5      66.5  \n",
      "61         1890.0    3150.0  \n",
      "...           ...       ...  \n",
      "24710      1522.5       0.0  \n",
      "24872      2240.0     441.0  \n",
      "24880      1585.5     112.0  \n",
      "24943       987.0      87.5  \n",
      "25114      1260.0      87.5  \n",
      "\n",
      "[361 rows x 8 columns]\n"
     ]
    }
   ],
   "execution_count": 36
  },
  {
   "metadata": {
    "ExecuteTime": {
     "end_time": "2025-08-03T05:40:57.817253Z",
     "start_time": "2025-08-03T05:40:57.789202Z"
    }
   },
   "cell_type": "code",
   "source": [
    "apartment_two_room_low_rent_big_area = (apartment_rent['Habitaciones'] >= 2) & (apartment_rent['Valor'] < 10500) & (apartment_rent['Area'] > 70)\n",
    "apartment_rent_two_room_low_rent_big_area = apartment_rent[apartment_two_room_low_rent_big_area]\n",
    "print(apartment_rent_two_room_low_rent_big_area)"
   ],
   "id": "20fa8b3a27126ec",
   "outputs": [
    {
     "name": "stdout",
     "output_type": "stream",
     "text": [
      "         Colonia  Habitaciones  Garages  Suites  Area   Valor  Condominio  \\\n",
      "14      Narvarte             2        1       0   110  6650.0      2450.0   \n",
      "16      Narvarte             2        1       0    78  7000.0      2450.0   \n",
      "21          Roma             2        1       0    76  8750.0      2590.0   \n",
      "33      Santa Fe             3        1       1    72  8225.0      2100.0   \n",
      "58      Santa Fe             3        2       1   104  9100.0      4774.0   \n",
      "...          ...           ...      ...     ...   ...     ...         ...   \n",
      "25028  Del Valle             2        0       1    90  7700.0      1890.0   \n",
      "25062   Santa Fe             2        1       1    72  5950.0      3045.0   \n",
      "25063   Narvarte             3        1       0    75  6650.0      3010.0   \n",
      "25105   Santa Fe             2        1       1    85  7875.0      5463.5   \n",
      "25106   Santa Fe             3        2       0    98  8050.0      3104.5   \n",
      "\n",
      "       Impuesto  \n",
      "14        483.0  \n",
      "16          0.0  \n",
      "21          0.0  \n",
      "33        245.0  \n",
      "58       1421.0  \n",
      "...         ...  \n",
      "25028     483.0  \n",
      "25062     560.0  \n",
      "25063     493.5  \n",
      "25105     689.5  \n",
      "25106     619.5  \n",
      "\n",
      "[2643 rows x 8 columns]\n"
     ]
    }
   ],
   "execution_count": 37
  },
  {
   "metadata": {
    "ExecuteTime": {
     "end_time": "2025-08-03T05:40:57.941531Z",
     "start_time": "2025-08-03T05:40:57.913369Z"
    }
   },
   "cell_type": "code",
   "source": "apartment_rent.query('Habitaciones >= 2 & Valor < 10500 & Area > 70')",
   "id": "fc710356a14b96dd",
   "outputs": [
    {
     "data": {
      "text/plain": [
       "         Colonia  Habitaciones  Garages  Suites  Area   Valor  Condominio  \\\n",
       "14      Narvarte             2        1       0   110  6650.0      2450.0   \n",
       "16      Narvarte             2        1       0    78  7000.0      2450.0   \n",
       "21          Roma             2        1       0    76  8750.0      2590.0   \n",
       "33      Santa Fe             3        1       1    72  8225.0      2100.0   \n",
       "58      Santa Fe             3        2       1   104  9100.0      4774.0   \n",
       "...          ...           ...      ...     ...   ...     ...         ...   \n",
       "25028  Del Valle             2        0       1    90  7700.0      1890.0   \n",
       "25062   Santa Fe             2        1       1    72  5950.0      3045.0   \n",
       "25063   Narvarte             3        1       0    75  6650.0      3010.0   \n",
       "25105   Santa Fe             2        1       1    85  7875.0      5463.5   \n",
       "25106   Santa Fe             3        2       0    98  8050.0      3104.5   \n",
       "\n",
       "       Impuesto  \n",
       "14        483.0  \n",
       "16          0.0  \n",
       "21          0.0  \n",
       "33        245.0  \n",
       "58       1421.0  \n",
       "...         ...  \n",
       "25028     483.0  \n",
       "25062     560.0  \n",
       "25063     493.5  \n",
       "25105     689.5  \n",
       "25106     619.5  \n",
       "\n",
       "[2643 rows x 8 columns]"
      ],
      "text/html": [
       "<div>\n",
       "<style scoped>\n",
       "    .dataframe tbody tr th:only-of-type {\n",
       "        vertical-align: middle;\n",
       "    }\n",
       "\n",
       "    .dataframe tbody tr th {\n",
       "        vertical-align: top;\n",
       "    }\n",
       "\n",
       "    .dataframe thead th {\n",
       "        text-align: right;\n",
       "    }\n",
       "</style>\n",
       "<table border=\"1\" class=\"dataframe\">\n",
       "  <thead>\n",
       "    <tr style=\"text-align: right;\">\n",
       "      <th></th>\n",
       "      <th>Colonia</th>\n",
       "      <th>Habitaciones</th>\n",
       "      <th>Garages</th>\n",
       "      <th>Suites</th>\n",
       "      <th>Area</th>\n",
       "      <th>Valor</th>\n",
       "      <th>Condominio</th>\n",
       "      <th>Impuesto</th>\n",
       "    </tr>\n",
       "  </thead>\n",
       "  <tbody>\n",
       "    <tr>\n",
       "      <th>14</th>\n",
       "      <td>Narvarte</td>\n",
       "      <td>2</td>\n",
       "      <td>1</td>\n",
       "      <td>0</td>\n",
       "      <td>110</td>\n",
       "      <td>6650.0</td>\n",
       "      <td>2450.0</td>\n",
       "      <td>483.0</td>\n",
       "    </tr>\n",
       "    <tr>\n",
       "      <th>16</th>\n",
       "      <td>Narvarte</td>\n",
       "      <td>2</td>\n",
       "      <td>1</td>\n",
       "      <td>0</td>\n",
       "      <td>78</td>\n",
       "      <td>7000.0</td>\n",
       "      <td>2450.0</td>\n",
       "      <td>0.0</td>\n",
       "    </tr>\n",
       "    <tr>\n",
       "      <th>21</th>\n",
       "      <td>Roma</td>\n",
       "      <td>2</td>\n",
       "      <td>1</td>\n",
       "      <td>0</td>\n",
       "      <td>76</td>\n",
       "      <td>8750.0</td>\n",
       "      <td>2590.0</td>\n",
       "      <td>0.0</td>\n",
       "    </tr>\n",
       "    <tr>\n",
       "      <th>33</th>\n",
       "      <td>Santa Fe</td>\n",
       "      <td>3</td>\n",
       "      <td>1</td>\n",
       "      <td>1</td>\n",
       "      <td>72</td>\n",
       "      <td>8225.0</td>\n",
       "      <td>2100.0</td>\n",
       "      <td>245.0</td>\n",
       "    </tr>\n",
       "    <tr>\n",
       "      <th>58</th>\n",
       "      <td>Santa Fe</td>\n",
       "      <td>3</td>\n",
       "      <td>2</td>\n",
       "      <td>1</td>\n",
       "      <td>104</td>\n",
       "      <td>9100.0</td>\n",
       "      <td>4774.0</td>\n",
       "      <td>1421.0</td>\n",
       "    </tr>\n",
       "    <tr>\n",
       "      <th>...</th>\n",
       "      <td>...</td>\n",
       "      <td>...</td>\n",
       "      <td>...</td>\n",
       "      <td>...</td>\n",
       "      <td>...</td>\n",
       "      <td>...</td>\n",
       "      <td>...</td>\n",
       "      <td>...</td>\n",
       "    </tr>\n",
       "    <tr>\n",
       "      <th>25028</th>\n",
       "      <td>Del Valle</td>\n",
       "      <td>2</td>\n",
       "      <td>0</td>\n",
       "      <td>1</td>\n",
       "      <td>90</td>\n",
       "      <td>7700.0</td>\n",
       "      <td>1890.0</td>\n",
       "      <td>483.0</td>\n",
       "    </tr>\n",
       "    <tr>\n",
       "      <th>25062</th>\n",
       "      <td>Santa Fe</td>\n",
       "      <td>2</td>\n",
       "      <td>1</td>\n",
       "      <td>1</td>\n",
       "      <td>72</td>\n",
       "      <td>5950.0</td>\n",
       "      <td>3045.0</td>\n",
       "      <td>560.0</td>\n",
       "    </tr>\n",
       "    <tr>\n",
       "      <th>25063</th>\n",
       "      <td>Narvarte</td>\n",
       "      <td>3</td>\n",
       "      <td>1</td>\n",
       "      <td>0</td>\n",
       "      <td>75</td>\n",
       "      <td>6650.0</td>\n",
       "      <td>3010.0</td>\n",
       "      <td>493.5</td>\n",
       "    </tr>\n",
       "    <tr>\n",
       "      <th>25105</th>\n",
       "      <td>Santa Fe</td>\n",
       "      <td>2</td>\n",
       "      <td>1</td>\n",
       "      <td>1</td>\n",
       "      <td>85</td>\n",
       "      <td>7875.0</td>\n",
       "      <td>5463.5</td>\n",
       "      <td>689.5</td>\n",
       "    </tr>\n",
       "    <tr>\n",
       "      <th>25106</th>\n",
       "      <td>Santa Fe</td>\n",
       "      <td>3</td>\n",
       "      <td>2</td>\n",
       "      <td>0</td>\n",
       "      <td>98</td>\n",
       "      <td>8050.0</td>\n",
       "      <td>3104.5</td>\n",
       "      <td>619.5</td>\n",
       "    </tr>\n",
       "  </tbody>\n",
       "</table>\n",
       "<p>2643 rows × 8 columns</p>\n",
       "</div>"
      ]
     },
     "execution_count": 38,
     "metadata": {},
     "output_type": "execute_result"
    }
   ],
   "execution_count": 38
  },
  {
   "metadata": {},
   "cell_type": "markdown",
   "source": [
    "## Guardado de datos\n",
    "Se quiere que se guarde el dataframe despues de realizar los analisis y modificaciones"
   ],
   "id": "dcbd14b2190d94bd"
  },
  {
   "metadata": {
    "ExecuteTime": {
     "end_time": "2025-08-03T05:40:58.081400Z",
     "start_time": "2025-08-03T05:40:58.069358Z"
    }
   },
   "cell_type": "code",
   "source": "#apartment_rent.to_csv('Properties_ml.csv', index=False, sep=';')",
   "id": "44f8f7769cd4b92d",
   "outputs": [],
   "execution_count": 39
  },
  {
   "metadata": {
    "ExecuteTime": {
     "end_time": "2025-08-03T05:40:58.283232Z",
     "start_time": "2025-08-03T05:40:58.262191Z"
    }
   },
   "cell_type": "code",
   "source": "#pd.read_csv('Properties_ml.csv', sep=';')",
   "id": "84ab819c46a13026",
   "outputs": [],
   "execution_count": 40
  },
  {
   "metadata": {
    "ExecuteTime": {
     "end_time": "2025-08-03T05:40:58.455587Z",
     "start_time": "2025-08-03T05:40:58.444052Z"
    }
   },
   "cell_type": "code",
   "source": [
    "#apartment_rent_one_room_low_rent.to_csv('Properties-filtered-1.csv', index=False, sep=';')\n",
    "#apartment_rent_two_room_low_rent_big_area.to_csv('Properties-filtered-2.csv', index=False, sep=';')"
   ],
   "id": "43d69971f64ee03a",
   "outputs": [],
   "execution_count": 41
  },
  {
   "metadata": {},
   "cell_type": "markdown",
   "source": [
    "### Ejercicios\n",
    "**Haciendo uso de la base de datos de los alumnos**\n",
    "1. Verifica si la base de datos contiene datos nulos y, en el caso de tenerlos, realiza el tratamiento de estos datos nulos de la manera que consideres mas coherente con la situación\n",
    "2. Los estudiantes \"Alicia\" y \"Carlos\" ya no forman parte del grupo. Por lo tanto, elíminalos de la base de datos.\n",
    "3. Aplica un filtro que seleccione solo a los estudiantes aprobados.\n",
    "4. Guarda el DataFrame que contiene solo a los estudiantes aprobados en un archivo CSV.\n",
    "\n",
    "**Extra:** Al revisar las calificaciones de los estudiantes aprobados, notamos que algunas calificaciones eran incorrectas. Las estudiantes que obtuvieron una calificación de 7.0, en realidad tenían un punto extra que no se contabilizó. Por lo tanto, reemplaza las calificaciones de 7.0 en la base de datos por 8.0."
   ],
   "id": "edd22d1fddea36bc"
  },
  {
   "metadata": {
    "ExecuteTime": {
     "end_time": "2025-08-03T05:40:58.580941Z",
     "start_time": "2025-08-03T05:40:58.552920Z"
    }
   },
   "cell_type": "code",
   "source": [
    "# Tratamiento de datos nulos\n",
    "print(students_data)\n",
    "students_data.info()"
   ],
   "id": "41d9981d1048347c",
   "outputs": [
    {
     "name": "stdout",
     "output_type": "stream",
     "text": [
      "      Nombre  Edad  Nota   Aprobado\n",
      "0    Alberto    20   7.5       True\n",
      "1        Ana    18   NaN      False\n",
      "2     Camila    27   2.5      False\n",
      "3      David    18   5.0      False\n",
      "4      Brian    21  10.0       True\n",
      "5      Bruna    23   NaN      False\n",
      "6    Daniela    21   7.0       True\n",
      "7     Carlos    19   6.0      False\n",
      "8     Alicia    35   5.6      False\n",
      "9     Victor    28   NaN      False\n",
      "10    Danilo    21   NaN      False\n",
      "11   Ignacio    24   4.5      False\n",
      "12  Stephany    26  10.0       True\n",
      "13    Miriam    25   9.0       True\n",
      "14     Pablo    37   NaN      False\n",
      "15    Milena    29   7.0       True\n",
      "16     Lucas    33   NaN      False\n",
      "17     Nadia    34   8.0  Verdadero\n",
      "<class 'pandas.core.frame.DataFrame'>\n",
      "RangeIndex: 18 entries, 0 to 17\n",
      "Data columns (total 4 columns):\n",
      " #   Column    Non-Null Count  Dtype  \n",
      "---  ------    --------------  -----  \n",
      " 0   Nombre    18 non-null     object \n",
      " 1   Edad      18 non-null     int64  \n",
      " 2   Nota      12 non-null     float64\n",
      " 3   Aprobado  18 non-null     object \n",
      "dtypes: float64(1), int64(1), object(2)\n",
      "memory usage: 704.0+ bytes\n"
     ]
    }
   ],
   "execution_count": 42
  },
  {
   "metadata": {
    "ExecuteTime": {
     "end_time": "2025-08-03T05:40:58.689217Z",
     "start_time": "2025-08-03T05:40:58.678184Z"
    }
   },
   "cell_type": "code",
   "source": [
    "# Se le asigna 0 a los alumnos con datos faltantes\n",
    "students_data.fillna(0, inplace=True)"
   ],
   "id": "ab8138190492adfb",
   "outputs": [],
   "execution_count": 43
  },
  {
   "metadata": {
    "ExecuteTime": {
     "end_time": "2025-08-03T05:40:58.798010Z",
     "start_time": "2025-08-03T05:40:58.784495Z"
    }
   },
   "cell_type": "code",
   "source": "students_data.isnull().sum()",
   "id": "fe3b11165b98c43c",
   "outputs": [
    {
     "data": {
      "text/plain": [
       "Nombre      0\n",
       "Edad        0\n",
       "Nota        0\n",
       "Aprobado    0\n",
       "dtype: int64"
      ]
     },
     "execution_count": 44,
     "metadata": {},
     "output_type": "execute_result"
    }
   ],
   "execution_count": 44
  },
  {
   "metadata": {
    "ExecuteTime": {
     "end_time": "2025-08-03T05:40:58.936677Z",
     "start_time": "2025-08-03T05:40:58.923198Z"
    }
   },
   "cell_type": "code",
   "source": [
    "# Se eliminan los estudiantes de baja\n",
    "students_delete = students_data.query('Nombre == \"Alicia\" | Nombre == \"Carlos\"').index\n",
    "students_data.drop(students_delete, inplace=True)"
   ],
   "id": "80d173e88240afbc",
   "outputs": [],
   "execution_count": 45
  },
  {
   "metadata": {
    "ExecuteTime": {
     "end_time": "2025-08-03T05:40:59.076968Z",
     "start_time": "2025-08-03T05:40:59.063446Z"
    }
   },
   "cell_type": "code",
   "source": [
    "# Se seleccionan solo los estudiantes aprobados\n",
    "approved_students = students_data.query('Aprobado == \"True\" | Aprobado == \"Verdadero\"')"
   ],
   "id": "6714931f61a1c536",
   "outputs": [],
   "execution_count": 46
  },
  {
   "metadata": {
    "ExecuteTime": {
     "end_time": "2025-08-03T05:40:59.246186Z",
     "start_time": "2025-08-03T05:40:59.234664Z"
    }
   },
   "cell_type": "code",
   "source": [
    "# Cambiar calificacion de 7 a 8\n",
    "# approved_students['Nota'].replace(7.0, 8.0, inplace=True)"
   ],
   "id": "bde222e61e7574c1",
   "outputs": [],
   "execution_count": 47
  },
  {
   "metadata": {
    "ExecuteTime": {
     "end_time": "2025-08-03T05:40:59.417770Z",
     "start_time": "2025-08-03T05:40:59.406253Z"
    }
   },
   "cell_type": "code",
   "source": "# approved_students.to_csv('Approved_students.csv', index=False, sep=';')",
   "id": "36dd8dbe095d4631",
   "outputs": [],
   "execution_count": 48
  },
  {
   "metadata": {},
   "cell_type": "markdown",
   "source": [
    "## Creación de columnas numericas\n",
    "Creación de columnas de valores mensuales de cada propiedad así como columnas de valores anuales."
   ],
   "id": "51aa916eb98ec029"
  },
  {
   "metadata": {
    "ExecuteTime": {
     "end_time": "2025-08-03T05:40:59.589332Z",
     "start_time": "2025-08-03T05:40:59.561094Z"
    }
   },
   "cell_type": "code",
   "source": [
    "small_apartment_rent = pd.read_csv('Properties-filtered-1.csv', sep=';')\n",
    "medium_apartment_rent = pd.read_csv('Properties-filtered-2.csv', sep=';')"
   ],
   "id": "b022ca5b3346536",
   "outputs": [],
   "execution_count": 49
  },
  {
   "metadata": {
    "ExecuteTime": {
     "end_time": "2025-08-03T05:40:59.730526Z",
     "start_time": "2025-08-03T05:40:59.716857Z"
    }
   },
   "cell_type": "code",
   "source": [
    "# Gastos mensuales de incluyendo alquiler y condominio.\n",
    "rent_data['Valor_mensual'] = rent_data['Valor'] + rent_data['Condominio']\n",
    "print(rent_data.head(10))"
   ],
   "id": "9820f58839adf114",
   "outputs": [
    {
     "name": "stdout",
     "output_type": "stream",
     "text": [
      "                      Tipo           Colonia  Habitaciones  Garages  Suites  \\\n",
      "0                 Cocineta           Condesa             1        0       0   \n",
      "1                     Casa           Polanco             2        0       1   \n",
      "2  Conjunto Comercial/Sala          Santa Fe             0        4       0   \n",
      "3             Departamento  Centro Histórico             1        0       0   \n",
      "4             Departamento         Del Valle             1        0       0   \n",
      "5       Casa de Condominio          Santa Fe             5        4       5   \n",
      "6  Conjunto Comercial/Sala  Centro Histórico             0        3       0   \n",
      "7             Departamento  Centro Histórico             1        0       0   \n",
      "8             Departamento           Condesa             1        0       1   \n",
      "9                 Cocineta           Condesa             1        0       0   \n",
      "\n",
      "   Area     Valor  Condominio  Impuesto  Valor_mensual  \n",
      "0    40    5950.0      1750.0     210.0         7700.0  \n",
      "1   100   24500.0         NaN       NaN            NaN  \n",
      "2   150   18200.0     14070.0    3888.5        32270.0  \n",
      "3    15    2800.0      1365.0      70.0         4165.0  \n",
      "4    48    2800.0       805.0       NaN         3605.0  \n",
      "5   750   77000.0         NaN       NaN            NaN  \n",
      "6   695  122500.0     67175.5   10605.0       189675.5  \n",
      "7    36    4200.0         NaN       NaN            NaN  \n",
      "8    40    7000.0      1963.5     175.0         8963.5  \n",
      "9    27    6300.0      1753.5       NaN         8053.5  \n"
     ]
    }
   ],
   "execution_count": 50
  },
  {
   "metadata": {
    "ExecuteTime": {
     "end_time": "2025-08-03T05:40:59.823247Z",
     "start_time": "2025-08-03T05:40:59.810737Z"
    }
   },
   "cell_type": "code",
   "source": [
    "rent_data['Valor_anual'] = (rent_data['Valor_mensual'] * 12) + rent_data['Impuesto']\n",
    "print(rent_data.tail(10))"
   ],
   "id": "c41f2d213e2174df",
   "outputs": [
    {
     "name": "stdout",
     "output_type": "stream",
     "text": [
      "                          Tipo               Colonia  Habitaciones  Garages  \\\n",
      "25111             Departamento  Lomas de Chapultepec             3        0   \n",
      "25112  Conjunto Comercial/Sala      Centro Histórico             0        0   \n",
      "25113             Departamento              Coyoacán             3        1   \n",
      "25114             Departamento              Narvarte             1        0   \n",
      "25115       Casa de Condominio              Santa Fe             5        3   \n",
      "25116  Cochera/Estacionamiento      Centro Histórico             0        0   \n",
      "25117                 Cocineta      Centro Histórico             0        0   \n",
      "25118             Departamento               Mixcoac             2        1   \n",
      "25119             Departamento  Lomas de Chapultepec             2        0   \n",
      "25120  Conjunto Comercial/Sala      Centro Histórico             0        0   \n",
      "\n",
      "       Suites  Area    Valor  Condominio  Impuesto  Valor_mensual  Valor_anual  \n",
      "25111       1    80  10500.0      3535.0     871.5        14035.0     169291.5  \n",
      "25112       0    32   2100.0      3622.5     290.5         5722.5      68960.5  \n",
      "25113       2   150  52500.0      4900.0    2100.0        57400.0     690900.0  \n",
      "25114       0    28   3500.0      1260.0      87.5         4760.0      57207.5  \n",
      "25115       4   450  52500.0      5988.5    8162.0        58488.5     710024.0  \n",
      "25116       0   755  49000.0         NaN       NaN            NaN          NaN  \n",
      "25117       0    27   2800.0      1225.0      87.5         4025.0      48387.5  \n",
      "25118       0    48   4900.0      1781.5     129.5         6681.5      80307.5  \n",
      "25119       0    70  10500.0      2660.0       NaN        13160.0          NaN  \n",
      "25120       0   250  22750.0     14721.0    3881.5        37471.0     453533.5  \n"
     ]
    }
   ],
   "execution_count": 51
  },
  {
   "metadata": {},
   "cell_type": "markdown",
   "source": [
    "## Creacion de columnas categoricas\n",
    "Creara una columna para la descripcion y una columna para identificar si tiene o no suite."
   ],
   "id": "570525b85029b14c"
  },
  {
   "metadata": {
    "ExecuteTime": {
     "end_time": "2025-08-03T05:41:00.023176Z",
     "start_time": "2025-08-03T05:40:59.933806Z"
    }
   },
   "cell_type": "code",
   "source": [
    "rent_data['Descripcion'] = rent_data['Tipo'] + ' en ' + rent_data['Colonia'] +' con ' + rent_data['Habitaciones'].astype(str) + ' habitacion(es) y '+ rent_data['Garages'].astype(str) + ' garages.'\n",
    "rent_data.head()"
   ],
   "id": "40e0688204f26026",
   "outputs": [
    {
     "data": {
      "text/plain": [
       "                      Tipo           Colonia  Habitaciones  Garages  Suites  \\\n",
       "0                 Cocineta           Condesa             1        0       0   \n",
       "1                     Casa           Polanco             2        0       1   \n",
       "2  Conjunto Comercial/Sala          Santa Fe             0        4       0   \n",
       "3             Departamento  Centro Histórico             1        0       0   \n",
       "4             Departamento         Del Valle             1        0       0   \n",
       "\n",
       "   Area    Valor  Condominio  Impuesto  Valor_mensual  Valor_anual  \\\n",
       "0    40   5950.0      1750.0     210.0         7700.0      92610.0   \n",
       "1   100  24500.0         NaN       NaN            NaN          NaN   \n",
       "2   150  18200.0     14070.0    3888.5        32270.0     391128.5   \n",
       "3    15   2800.0      1365.0      70.0         4165.0      50050.0   \n",
       "4    48   2800.0       805.0       NaN         3605.0          NaN   \n",
       "\n",
       "                                         Descripcion  \n",
       "0  Cocineta en Condesa con 1 habitacion(es) y 0 g...  \n",
       "1  Casa en Polanco con 2 habitacion(es) y 0 garages.  \n",
       "2  Conjunto Comercial/Sala en Santa Fe con 0 habi...  \n",
       "3  Departamento en Centro Histórico con 1 habitac...  \n",
       "4  Departamento en Del Valle con 1 habitacion(es)...  "
      ],
      "text/html": [
       "<div>\n",
       "<style scoped>\n",
       "    .dataframe tbody tr th:only-of-type {\n",
       "        vertical-align: middle;\n",
       "    }\n",
       "\n",
       "    .dataframe tbody tr th {\n",
       "        vertical-align: top;\n",
       "    }\n",
       "\n",
       "    .dataframe thead th {\n",
       "        text-align: right;\n",
       "    }\n",
       "</style>\n",
       "<table border=\"1\" class=\"dataframe\">\n",
       "  <thead>\n",
       "    <tr style=\"text-align: right;\">\n",
       "      <th></th>\n",
       "      <th>Tipo</th>\n",
       "      <th>Colonia</th>\n",
       "      <th>Habitaciones</th>\n",
       "      <th>Garages</th>\n",
       "      <th>Suites</th>\n",
       "      <th>Area</th>\n",
       "      <th>Valor</th>\n",
       "      <th>Condominio</th>\n",
       "      <th>Impuesto</th>\n",
       "      <th>Valor_mensual</th>\n",
       "      <th>Valor_anual</th>\n",
       "      <th>Descripcion</th>\n",
       "    </tr>\n",
       "  </thead>\n",
       "  <tbody>\n",
       "    <tr>\n",
       "      <th>0</th>\n",
       "      <td>Cocineta</td>\n",
       "      <td>Condesa</td>\n",
       "      <td>1</td>\n",
       "      <td>0</td>\n",
       "      <td>0</td>\n",
       "      <td>40</td>\n",
       "      <td>5950.0</td>\n",
       "      <td>1750.0</td>\n",
       "      <td>210.0</td>\n",
       "      <td>7700.0</td>\n",
       "      <td>92610.0</td>\n",
       "      <td>Cocineta en Condesa con 1 habitacion(es) y 0 g...</td>\n",
       "    </tr>\n",
       "    <tr>\n",
       "      <th>1</th>\n",
       "      <td>Casa</td>\n",
       "      <td>Polanco</td>\n",
       "      <td>2</td>\n",
       "      <td>0</td>\n",
       "      <td>1</td>\n",
       "      <td>100</td>\n",
       "      <td>24500.0</td>\n",
       "      <td>NaN</td>\n",
       "      <td>NaN</td>\n",
       "      <td>NaN</td>\n",
       "      <td>NaN</td>\n",
       "      <td>Casa en Polanco con 2 habitacion(es) y 0 garages.</td>\n",
       "    </tr>\n",
       "    <tr>\n",
       "      <th>2</th>\n",
       "      <td>Conjunto Comercial/Sala</td>\n",
       "      <td>Santa Fe</td>\n",
       "      <td>0</td>\n",
       "      <td>4</td>\n",
       "      <td>0</td>\n",
       "      <td>150</td>\n",
       "      <td>18200.0</td>\n",
       "      <td>14070.0</td>\n",
       "      <td>3888.5</td>\n",
       "      <td>32270.0</td>\n",
       "      <td>391128.5</td>\n",
       "      <td>Conjunto Comercial/Sala en Santa Fe con 0 habi...</td>\n",
       "    </tr>\n",
       "    <tr>\n",
       "      <th>3</th>\n",
       "      <td>Departamento</td>\n",
       "      <td>Centro Histórico</td>\n",
       "      <td>1</td>\n",
       "      <td>0</td>\n",
       "      <td>0</td>\n",
       "      <td>15</td>\n",
       "      <td>2800.0</td>\n",
       "      <td>1365.0</td>\n",
       "      <td>70.0</td>\n",
       "      <td>4165.0</td>\n",
       "      <td>50050.0</td>\n",
       "      <td>Departamento en Centro Histórico con 1 habitac...</td>\n",
       "    </tr>\n",
       "    <tr>\n",
       "      <th>4</th>\n",
       "      <td>Departamento</td>\n",
       "      <td>Del Valle</td>\n",
       "      <td>1</td>\n",
       "      <td>0</td>\n",
       "      <td>0</td>\n",
       "      <td>48</td>\n",
       "      <td>2800.0</td>\n",
       "      <td>805.0</td>\n",
       "      <td>NaN</td>\n",
       "      <td>3605.0</td>\n",
       "      <td>NaN</td>\n",
       "      <td>Departamento en Del Valle con 1 habitacion(es)...</td>\n",
       "    </tr>\n",
       "  </tbody>\n",
       "</table>\n",
       "</div>"
      ]
     },
     "execution_count": 52,
     "metadata": {},
     "output_type": "execute_result"
    }
   ],
   "execution_count": 52
  },
  {
   "metadata": {
    "ExecuteTime": {
     "end_time": "2025-08-03T05:43:16.061469Z",
     "start_time": "2025-08-03T05:43:16.032932Z"
    }
   },
   "cell_type": "code",
   "source": [
    "# Propuesta facil\n",
    "# rent_data['Tiene_suite'] = rent_data['Suites'] > 0\n",
    "rent_data['Tiene_suite'] = rent_data['Suites'].apply(lambda x: 'Si' if x > 0 else 'No')\n",
    "rent_data.sample(10)"
   ],
   "id": "79d2eaf32b071e43",
   "outputs": [
    {
     "data": {
      "text/plain": [
       "                          Tipo               Colonia  Habitaciones  Garages  \\\n",
       "4092   Conjunto Comercial/Sala              Santa Fe             0        2   \n",
       "23719       Casa de Condominio              Santa Fe             4        2   \n",
       "12698                     Casa          San Jerónimo             4        4   \n",
       "20367             Departamento              Coyoacán             3        2   \n",
       "10866             Departamento  Lomas de Chapultepec             3        1   \n",
       "19706             Departamento              Santa Fe             2        2   \n",
       "11999       Casa de Condominio              Santa Fe             5        6   \n",
       "16455  Conjunto Comercial/Sala      Centro Histórico             0        0   \n",
       "5343              Departamento                  Roma             3        1   \n",
       "21969             Departamento              Santa Fe             3        2   \n",
       "\n",
       "       Suites  Area     Valor  Condominio  Impuesto  Valor_mensual  \\\n",
       "4092        0    48    7700.0      3850.0     784.0        11550.0   \n",
       "23719       4   340   27968.5      3804.5   39760.0        31773.0   \n",
       "12698       1   800   52500.0      4550.0    3850.0        57050.0   \n",
       "20367       1   150   22050.0      7700.0    1732.5        29750.0   \n",
       "10866       2   110   35000.0      4462.5    1015.0        39462.5   \n",
       "19706       1   105   19250.0      6825.0    1820.0        26075.0   \n",
       "11999       5   900  122500.0      9800.0   50638.0       132300.0   \n",
       "16455       0   150   15750.0     13023.5    2807.0        28773.5   \n",
       "5343        1   108   12250.0      3895.5     717.5        16145.5   \n",
       "21969       2   108   14000.0      4900.0       NaN        18900.0   \n",
       "\n",
       "       Valor_anual                                        Descripcion  \\\n",
       "4092      139384.0  Conjunto Comercial/Sala en Santa Fe con 0 habi...   \n",
       "23719     421036.0  Casa de Condominio en Santa Fe con 4 habitacio...   \n",
       "12698     688450.0  Casa en San Jerónimo con 4 habitacion(es) y 4 ...   \n",
       "20367     358732.5  Departamento en Coyoacán con 3 habitacion(es) ...   \n",
       "10866     474565.0  Departamento en Lomas de Chapultepec con 3 hab...   \n",
       "19706     314720.0  Departamento en Santa Fe con 2 habitacion(es) ...   \n",
       "11999    1638238.0  Casa de Condominio en Santa Fe con 5 habitacio...   \n",
       "16455     348089.0  Conjunto Comercial/Sala en Centro Histórico co...   \n",
       "5343      194463.5  Departamento en Roma con 3 habitacion(es) y 1 ...   \n",
       "21969          NaN  Departamento en Santa Fe con 3 habitacion(es) ...   \n",
       "\n",
       "      Tiene_suite  \n",
       "4092           No  \n",
       "23719          Si  \n",
       "12698          Si  \n",
       "20367          Si  \n",
       "10866          Si  \n",
       "19706          Si  \n",
       "11999          Si  \n",
       "16455          No  \n",
       "5343           Si  \n",
       "21969          Si  "
      ],
      "text/html": [
       "<div>\n",
       "<style scoped>\n",
       "    .dataframe tbody tr th:only-of-type {\n",
       "        vertical-align: middle;\n",
       "    }\n",
       "\n",
       "    .dataframe tbody tr th {\n",
       "        vertical-align: top;\n",
       "    }\n",
       "\n",
       "    .dataframe thead th {\n",
       "        text-align: right;\n",
       "    }\n",
       "</style>\n",
       "<table border=\"1\" class=\"dataframe\">\n",
       "  <thead>\n",
       "    <tr style=\"text-align: right;\">\n",
       "      <th></th>\n",
       "      <th>Tipo</th>\n",
       "      <th>Colonia</th>\n",
       "      <th>Habitaciones</th>\n",
       "      <th>Garages</th>\n",
       "      <th>Suites</th>\n",
       "      <th>Area</th>\n",
       "      <th>Valor</th>\n",
       "      <th>Condominio</th>\n",
       "      <th>Impuesto</th>\n",
       "      <th>Valor_mensual</th>\n",
       "      <th>Valor_anual</th>\n",
       "      <th>Descripcion</th>\n",
       "      <th>Tiene_suite</th>\n",
       "    </tr>\n",
       "  </thead>\n",
       "  <tbody>\n",
       "    <tr>\n",
       "      <th>4092</th>\n",
       "      <td>Conjunto Comercial/Sala</td>\n",
       "      <td>Santa Fe</td>\n",
       "      <td>0</td>\n",
       "      <td>2</td>\n",
       "      <td>0</td>\n",
       "      <td>48</td>\n",
       "      <td>7700.0</td>\n",
       "      <td>3850.0</td>\n",
       "      <td>784.0</td>\n",
       "      <td>11550.0</td>\n",
       "      <td>139384.0</td>\n",
       "      <td>Conjunto Comercial/Sala en Santa Fe con 0 habi...</td>\n",
       "      <td>No</td>\n",
       "    </tr>\n",
       "    <tr>\n",
       "      <th>23719</th>\n",
       "      <td>Casa de Condominio</td>\n",
       "      <td>Santa Fe</td>\n",
       "      <td>4</td>\n",
       "      <td>2</td>\n",
       "      <td>4</td>\n",
       "      <td>340</td>\n",
       "      <td>27968.5</td>\n",
       "      <td>3804.5</td>\n",
       "      <td>39760.0</td>\n",
       "      <td>31773.0</td>\n",
       "      <td>421036.0</td>\n",
       "      <td>Casa de Condominio en Santa Fe con 4 habitacio...</td>\n",
       "      <td>Si</td>\n",
       "    </tr>\n",
       "    <tr>\n",
       "      <th>12698</th>\n",
       "      <td>Casa</td>\n",
       "      <td>San Jerónimo</td>\n",
       "      <td>4</td>\n",
       "      <td>4</td>\n",
       "      <td>1</td>\n",
       "      <td>800</td>\n",
       "      <td>52500.0</td>\n",
       "      <td>4550.0</td>\n",
       "      <td>3850.0</td>\n",
       "      <td>57050.0</td>\n",
       "      <td>688450.0</td>\n",
       "      <td>Casa en San Jerónimo con 4 habitacion(es) y 4 ...</td>\n",
       "      <td>Si</td>\n",
       "    </tr>\n",
       "    <tr>\n",
       "      <th>20367</th>\n",
       "      <td>Departamento</td>\n",
       "      <td>Coyoacán</td>\n",
       "      <td>3</td>\n",
       "      <td>2</td>\n",
       "      <td>1</td>\n",
       "      <td>150</td>\n",
       "      <td>22050.0</td>\n",
       "      <td>7700.0</td>\n",
       "      <td>1732.5</td>\n",
       "      <td>29750.0</td>\n",
       "      <td>358732.5</td>\n",
       "      <td>Departamento en Coyoacán con 3 habitacion(es) ...</td>\n",
       "      <td>Si</td>\n",
       "    </tr>\n",
       "    <tr>\n",
       "      <th>10866</th>\n",
       "      <td>Departamento</td>\n",
       "      <td>Lomas de Chapultepec</td>\n",
       "      <td>3</td>\n",
       "      <td>1</td>\n",
       "      <td>2</td>\n",
       "      <td>110</td>\n",
       "      <td>35000.0</td>\n",
       "      <td>4462.5</td>\n",
       "      <td>1015.0</td>\n",
       "      <td>39462.5</td>\n",
       "      <td>474565.0</td>\n",
       "      <td>Departamento en Lomas de Chapultepec con 3 hab...</td>\n",
       "      <td>Si</td>\n",
       "    </tr>\n",
       "    <tr>\n",
       "      <th>19706</th>\n",
       "      <td>Departamento</td>\n",
       "      <td>Santa Fe</td>\n",
       "      <td>2</td>\n",
       "      <td>2</td>\n",
       "      <td>1</td>\n",
       "      <td>105</td>\n",
       "      <td>19250.0</td>\n",
       "      <td>6825.0</td>\n",
       "      <td>1820.0</td>\n",
       "      <td>26075.0</td>\n",
       "      <td>314720.0</td>\n",
       "      <td>Departamento en Santa Fe con 2 habitacion(es) ...</td>\n",
       "      <td>Si</td>\n",
       "    </tr>\n",
       "    <tr>\n",
       "      <th>11999</th>\n",
       "      <td>Casa de Condominio</td>\n",
       "      <td>Santa Fe</td>\n",
       "      <td>5</td>\n",
       "      <td>6</td>\n",
       "      <td>5</td>\n",
       "      <td>900</td>\n",
       "      <td>122500.0</td>\n",
       "      <td>9800.0</td>\n",
       "      <td>50638.0</td>\n",
       "      <td>132300.0</td>\n",
       "      <td>1638238.0</td>\n",
       "      <td>Casa de Condominio en Santa Fe con 5 habitacio...</td>\n",
       "      <td>Si</td>\n",
       "    </tr>\n",
       "    <tr>\n",
       "      <th>16455</th>\n",
       "      <td>Conjunto Comercial/Sala</td>\n",
       "      <td>Centro Histórico</td>\n",
       "      <td>0</td>\n",
       "      <td>0</td>\n",
       "      <td>0</td>\n",
       "      <td>150</td>\n",
       "      <td>15750.0</td>\n",
       "      <td>13023.5</td>\n",
       "      <td>2807.0</td>\n",
       "      <td>28773.5</td>\n",
       "      <td>348089.0</td>\n",
       "      <td>Conjunto Comercial/Sala en Centro Histórico co...</td>\n",
       "      <td>No</td>\n",
       "    </tr>\n",
       "    <tr>\n",
       "      <th>5343</th>\n",
       "      <td>Departamento</td>\n",
       "      <td>Roma</td>\n",
       "      <td>3</td>\n",
       "      <td>1</td>\n",
       "      <td>1</td>\n",
       "      <td>108</td>\n",
       "      <td>12250.0</td>\n",
       "      <td>3895.5</td>\n",
       "      <td>717.5</td>\n",
       "      <td>16145.5</td>\n",
       "      <td>194463.5</td>\n",
       "      <td>Departamento en Roma con 3 habitacion(es) y 1 ...</td>\n",
       "      <td>Si</td>\n",
       "    </tr>\n",
       "    <tr>\n",
       "      <th>21969</th>\n",
       "      <td>Departamento</td>\n",
       "      <td>Santa Fe</td>\n",
       "      <td>3</td>\n",
       "      <td>2</td>\n",
       "      <td>2</td>\n",
       "      <td>108</td>\n",
       "      <td>14000.0</td>\n",
       "      <td>4900.0</td>\n",
       "      <td>NaN</td>\n",
       "      <td>18900.0</td>\n",
       "      <td>NaN</td>\n",
       "      <td>Departamento en Santa Fe con 3 habitacion(es) ...</td>\n",
       "      <td>Si</td>\n",
       "    </tr>\n",
       "  </tbody>\n",
       "</table>\n",
       "</div>"
      ]
     },
     "execution_count": 58,
     "metadata": {},
     "output_type": "execute_result"
    }
   ],
   "execution_count": 58
  },
  {
   "metadata": {
    "ExecuteTime": {
     "end_time": "2025-08-03T05:44:27.509185Z",
     "start_time": "2025-08-03T05:44:27.291955Z"
    }
   },
   "cell_type": "code",
   "source": "rent_data.to_csv('properties-for-dev.csv', index=False, sep=';')",
   "id": "34411e61200bb936",
   "outputs": [],
   "execution_count": 59
  },
  {
   "metadata": {},
   "cell_type": "markdown",
   "source": [
    "### Ejercicios\n",
    "1. Los estudiantes participaron en una actividad extracurricular y ganaron puntos extras. Estos puntos extras corresponden al 40% de su nota actual. Por lo tanto, crea una columna llamada \"Puntos_extras\" que contenga los puntos extras de cada estudiante, es decir, el 40% de su nota actual.\n",
    "\n",
    "2. Crea otra columna llamada \"Notas_finales\" que contenga las notas de cada estudiante sumadas con los puntos extras.\n",
    "\n",
    "3. Dado que hubo una puntuación extra, algunos estudiantes que no habían sido aprobados antes pueden haber sido aprobados ahora. En función de esto, crea una columna llamada \"Aprobado_final\" con los siguientes valores:\n",
    "\n",
    "- True: si el estudiante está aprobado (la nota final debe ser mayor o igual a 7.0).\n",
    "- False: si el estudiante está reprobado (la nota final debe ser menor que 7.0).\n",
    "4. Realiza una selección y verifica qué estudiantes no habían sido aprobados anteriormente, pero ahora fueron aprobados después de sumar los puntos extras."
   ],
   "id": "794ee4fd3230d46"
  },
  {
   "metadata": {
    "ExecuteTime": {
     "end_time": "2025-08-03T05:50:13.561202Z",
     "start_time": "2025-08-03T05:50:13.539064Z"
    }
   },
   "cell_type": "code",
   "source": [
    "# Creacion de puntos extra obtenidos en la actividad extracurricular\n",
    "students_data['Puntos_extra'] = students_data['Nota'] * 0.4\n",
    "students_data.sample(5)"
   ],
   "id": "bbbfc35381601a87",
   "outputs": [
    {
     "data": {
      "text/plain": [
       "     Nombre  Edad  Nota Aprobado  Puntos_extra\n",
       "6   Daniela    21   7.0     True           2.8\n",
       "3     David    18   5.0    False           2.0\n",
       "14    Pablo    37   0.0    False           0.0\n",
       "0   Alberto    20   7.5     True           3.0\n",
       "9    Victor    28   0.0    False           0.0"
      ],
      "text/html": [
       "<div>\n",
       "<style scoped>\n",
       "    .dataframe tbody tr th:only-of-type {\n",
       "        vertical-align: middle;\n",
       "    }\n",
       "\n",
       "    .dataframe tbody tr th {\n",
       "        vertical-align: top;\n",
       "    }\n",
       "\n",
       "    .dataframe thead th {\n",
       "        text-align: right;\n",
       "    }\n",
       "</style>\n",
       "<table border=\"1\" class=\"dataframe\">\n",
       "  <thead>\n",
       "    <tr style=\"text-align: right;\">\n",
       "      <th></th>\n",
       "      <th>Nombre</th>\n",
       "      <th>Edad</th>\n",
       "      <th>Nota</th>\n",
       "      <th>Aprobado</th>\n",
       "      <th>Puntos_extra</th>\n",
       "    </tr>\n",
       "  </thead>\n",
       "  <tbody>\n",
       "    <tr>\n",
       "      <th>6</th>\n",
       "      <td>Daniela</td>\n",
       "      <td>21</td>\n",
       "      <td>7.0</td>\n",
       "      <td>True</td>\n",
       "      <td>2.8</td>\n",
       "    </tr>\n",
       "    <tr>\n",
       "      <th>3</th>\n",
       "      <td>David</td>\n",
       "      <td>18</td>\n",
       "      <td>5.0</td>\n",
       "      <td>False</td>\n",
       "      <td>2.0</td>\n",
       "    </tr>\n",
       "    <tr>\n",
       "      <th>14</th>\n",
       "      <td>Pablo</td>\n",
       "      <td>37</td>\n",
       "      <td>0.0</td>\n",
       "      <td>False</td>\n",
       "      <td>0.0</td>\n",
       "    </tr>\n",
       "    <tr>\n",
       "      <th>0</th>\n",
       "      <td>Alberto</td>\n",
       "      <td>20</td>\n",
       "      <td>7.5</td>\n",
       "      <td>True</td>\n",
       "      <td>3.0</td>\n",
       "    </tr>\n",
       "    <tr>\n",
       "      <th>9</th>\n",
       "      <td>Victor</td>\n",
       "      <td>28</td>\n",
       "      <td>0.0</td>\n",
       "      <td>False</td>\n",
       "      <td>0.0</td>\n",
       "    </tr>\n",
       "  </tbody>\n",
       "</table>\n",
       "</div>"
      ]
     },
     "execution_count": 62,
     "metadata": {},
     "output_type": "execute_result"
    }
   ],
   "execution_count": 62
  },
  {
   "metadata": {
    "ExecuteTime": {
     "end_time": "2025-08-03T06:03:09.909656Z",
     "start_time": "2025-08-03T06:03:09.882435Z"
    }
   },
   "cell_type": "code",
   "source": [
    "# Creacion de las notas finales\n",
    "students_data['Notas_finales'] = students_data['Nota'] + students_data['Puntos_extra']\n",
    "students_data.sample(5)"
   ],
   "id": "c5a73a1fe0615262",
   "outputs": [
    {
     "data": {
      "text/plain": [
       "     Nombre  Edad  Nota Aprobado  Puntos_extra  Notas_finales\n",
       "16    Lucas    33   0.0    False           0.0            0.0\n",
       "6   Daniela    21   7.0     True           2.8            9.8\n",
       "3     David    18   5.0    False           2.0            7.0\n",
       "4     Brian    21  10.0     True           4.0           14.0\n",
       "15   Milena    29   7.0     True           2.8            9.8"
      ],
      "text/html": [
       "<div>\n",
       "<style scoped>\n",
       "    .dataframe tbody tr th:only-of-type {\n",
       "        vertical-align: middle;\n",
       "    }\n",
       "\n",
       "    .dataframe tbody tr th {\n",
       "        vertical-align: top;\n",
       "    }\n",
       "\n",
       "    .dataframe thead th {\n",
       "        text-align: right;\n",
       "    }\n",
       "</style>\n",
       "<table border=\"1\" class=\"dataframe\">\n",
       "  <thead>\n",
       "    <tr style=\"text-align: right;\">\n",
       "      <th></th>\n",
       "      <th>Nombre</th>\n",
       "      <th>Edad</th>\n",
       "      <th>Nota</th>\n",
       "      <th>Aprobado</th>\n",
       "      <th>Puntos_extra</th>\n",
       "      <th>Notas_finales</th>\n",
       "    </tr>\n",
       "  </thead>\n",
       "  <tbody>\n",
       "    <tr>\n",
       "      <th>16</th>\n",
       "      <td>Lucas</td>\n",
       "      <td>33</td>\n",
       "      <td>0.0</td>\n",
       "      <td>False</td>\n",
       "      <td>0.0</td>\n",
       "      <td>0.0</td>\n",
       "    </tr>\n",
       "    <tr>\n",
       "      <th>6</th>\n",
       "      <td>Daniela</td>\n",
       "      <td>21</td>\n",
       "      <td>7.0</td>\n",
       "      <td>True</td>\n",
       "      <td>2.8</td>\n",
       "      <td>9.8</td>\n",
       "    </tr>\n",
       "    <tr>\n",
       "      <th>3</th>\n",
       "      <td>David</td>\n",
       "      <td>18</td>\n",
       "      <td>5.0</td>\n",
       "      <td>False</td>\n",
       "      <td>2.0</td>\n",
       "      <td>7.0</td>\n",
       "    </tr>\n",
       "    <tr>\n",
       "      <th>4</th>\n",
       "      <td>Brian</td>\n",
       "      <td>21</td>\n",
       "      <td>10.0</td>\n",
       "      <td>True</td>\n",
       "      <td>4.0</td>\n",
       "      <td>14.0</td>\n",
       "    </tr>\n",
       "    <tr>\n",
       "      <th>15</th>\n",
       "      <td>Milena</td>\n",
       "      <td>29</td>\n",
       "      <td>7.0</td>\n",
       "      <td>True</td>\n",
       "      <td>2.8</td>\n",
       "      <td>9.8</td>\n",
       "    </tr>\n",
       "  </tbody>\n",
       "</table>\n",
       "</div>"
      ]
     },
     "execution_count": 63,
     "metadata": {},
     "output_type": "execute_result"
    }
   ],
   "execution_count": 63
  },
  {
   "metadata": {
    "ExecuteTime": {
     "end_time": "2025-08-03T06:06:20.586267Z",
     "start_time": "2025-08-03T06:06:20.563644Z"
    }
   },
   "cell_type": "code",
   "source": [
    "# students_data['Aprobado_final'] = students_data['Notas_finales'].apply(lambda x: True if x >= 7 else False)\n",
    "students_data['Aprobado_final'] = students_data['Notas_finales'] >= 7\n",
    "students_data"
   ],
   "id": "3395ba7c283d5c8e",
   "outputs": [
    {
     "data": {
      "text/plain": [
       "      Nombre  Edad  Nota   Aprobado  Puntos_extra  Notas_finales  \\\n",
       "0    Alberto    20   7.5       True           3.0           10.5   \n",
       "1        Ana    18   0.0      False           0.0            0.0   \n",
       "2     Camila    27   2.5      False           1.0            3.5   \n",
       "3      David    18   5.0      False           2.0            7.0   \n",
       "4      Brian    21  10.0       True           4.0           14.0   \n",
       "5      Bruna    23   0.0      False           0.0            0.0   \n",
       "6    Daniela    21   7.0       True           2.8            9.8   \n",
       "9     Victor    28   0.0      False           0.0            0.0   \n",
       "10    Danilo    21   0.0      False           0.0            0.0   \n",
       "11   Ignacio    24   4.5      False           1.8            6.3   \n",
       "12  Stephany    26  10.0       True           4.0           14.0   \n",
       "13    Miriam    25   9.0       True           3.6           12.6   \n",
       "14     Pablo    37   0.0      False           0.0            0.0   \n",
       "15    Milena    29   7.0       True           2.8            9.8   \n",
       "16     Lucas    33   0.0      False           0.0            0.0   \n",
       "17     Nadia    34   8.0  Verdadero           3.2           11.2   \n",
       "\n",
       "    Aprobado_final  \n",
       "0             True  \n",
       "1            False  \n",
       "2            False  \n",
       "3             True  \n",
       "4             True  \n",
       "5            False  \n",
       "6             True  \n",
       "9            False  \n",
       "10           False  \n",
       "11           False  \n",
       "12            True  \n",
       "13            True  \n",
       "14           False  \n",
       "15            True  \n",
       "16           False  \n",
       "17            True  "
      ],
      "text/html": [
       "<div>\n",
       "<style scoped>\n",
       "    .dataframe tbody tr th:only-of-type {\n",
       "        vertical-align: middle;\n",
       "    }\n",
       "\n",
       "    .dataframe tbody tr th {\n",
       "        vertical-align: top;\n",
       "    }\n",
       "\n",
       "    .dataframe thead th {\n",
       "        text-align: right;\n",
       "    }\n",
       "</style>\n",
       "<table border=\"1\" class=\"dataframe\">\n",
       "  <thead>\n",
       "    <tr style=\"text-align: right;\">\n",
       "      <th></th>\n",
       "      <th>Nombre</th>\n",
       "      <th>Edad</th>\n",
       "      <th>Nota</th>\n",
       "      <th>Aprobado</th>\n",
       "      <th>Puntos_extra</th>\n",
       "      <th>Notas_finales</th>\n",
       "      <th>Aprobado_final</th>\n",
       "    </tr>\n",
       "  </thead>\n",
       "  <tbody>\n",
       "    <tr>\n",
       "      <th>0</th>\n",
       "      <td>Alberto</td>\n",
       "      <td>20</td>\n",
       "      <td>7.5</td>\n",
       "      <td>True</td>\n",
       "      <td>3.0</td>\n",
       "      <td>10.5</td>\n",
       "      <td>True</td>\n",
       "    </tr>\n",
       "    <tr>\n",
       "      <th>1</th>\n",
       "      <td>Ana</td>\n",
       "      <td>18</td>\n",
       "      <td>0.0</td>\n",
       "      <td>False</td>\n",
       "      <td>0.0</td>\n",
       "      <td>0.0</td>\n",
       "      <td>False</td>\n",
       "    </tr>\n",
       "    <tr>\n",
       "      <th>2</th>\n",
       "      <td>Camila</td>\n",
       "      <td>27</td>\n",
       "      <td>2.5</td>\n",
       "      <td>False</td>\n",
       "      <td>1.0</td>\n",
       "      <td>3.5</td>\n",
       "      <td>False</td>\n",
       "    </tr>\n",
       "    <tr>\n",
       "      <th>3</th>\n",
       "      <td>David</td>\n",
       "      <td>18</td>\n",
       "      <td>5.0</td>\n",
       "      <td>False</td>\n",
       "      <td>2.0</td>\n",
       "      <td>7.0</td>\n",
       "      <td>True</td>\n",
       "    </tr>\n",
       "    <tr>\n",
       "      <th>4</th>\n",
       "      <td>Brian</td>\n",
       "      <td>21</td>\n",
       "      <td>10.0</td>\n",
       "      <td>True</td>\n",
       "      <td>4.0</td>\n",
       "      <td>14.0</td>\n",
       "      <td>True</td>\n",
       "    </tr>\n",
       "    <tr>\n",
       "      <th>5</th>\n",
       "      <td>Bruna</td>\n",
       "      <td>23</td>\n",
       "      <td>0.0</td>\n",
       "      <td>False</td>\n",
       "      <td>0.0</td>\n",
       "      <td>0.0</td>\n",
       "      <td>False</td>\n",
       "    </tr>\n",
       "    <tr>\n",
       "      <th>6</th>\n",
       "      <td>Daniela</td>\n",
       "      <td>21</td>\n",
       "      <td>7.0</td>\n",
       "      <td>True</td>\n",
       "      <td>2.8</td>\n",
       "      <td>9.8</td>\n",
       "      <td>True</td>\n",
       "    </tr>\n",
       "    <tr>\n",
       "      <th>9</th>\n",
       "      <td>Victor</td>\n",
       "      <td>28</td>\n",
       "      <td>0.0</td>\n",
       "      <td>False</td>\n",
       "      <td>0.0</td>\n",
       "      <td>0.0</td>\n",
       "      <td>False</td>\n",
       "    </tr>\n",
       "    <tr>\n",
       "      <th>10</th>\n",
       "      <td>Danilo</td>\n",
       "      <td>21</td>\n",
       "      <td>0.0</td>\n",
       "      <td>False</td>\n",
       "      <td>0.0</td>\n",
       "      <td>0.0</td>\n",
       "      <td>False</td>\n",
       "    </tr>\n",
       "    <tr>\n",
       "      <th>11</th>\n",
       "      <td>Ignacio</td>\n",
       "      <td>24</td>\n",
       "      <td>4.5</td>\n",
       "      <td>False</td>\n",
       "      <td>1.8</td>\n",
       "      <td>6.3</td>\n",
       "      <td>False</td>\n",
       "    </tr>\n",
       "    <tr>\n",
       "      <th>12</th>\n",
       "      <td>Stephany</td>\n",
       "      <td>26</td>\n",
       "      <td>10.0</td>\n",
       "      <td>True</td>\n",
       "      <td>4.0</td>\n",
       "      <td>14.0</td>\n",
       "      <td>True</td>\n",
       "    </tr>\n",
       "    <tr>\n",
       "      <th>13</th>\n",
       "      <td>Miriam</td>\n",
       "      <td>25</td>\n",
       "      <td>9.0</td>\n",
       "      <td>True</td>\n",
       "      <td>3.6</td>\n",
       "      <td>12.6</td>\n",
       "      <td>True</td>\n",
       "    </tr>\n",
       "    <tr>\n",
       "      <th>14</th>\n",
       "      <td>Pablo</td>\n",
       "      <td>37</td>\n",
       "      <td>0.0</td>\n",
       "      <td>False</td>\n",
       "      <td>0.0</td>\n",
       "      <td>0.0</td>\n",
       "      <td>False</td>\n",
       "    </tr>\n",
       "    <tr>\n",
       "      <th>15</th>\n",
       "      <td>Milena</td>\n",
       "      <td>29</td>\n",
       "      <td>7.0</td>\n",
       "      <td>True</td>\n",
       "      <td>2.8</td>\n",
       "      <td>9.8</td>\n",
       "      <td>True</td>\n",
       "    </tr>\n",
       "    <tr>\n",
       "      <th>16</th>\n",
       "      <td>Lucas</td>\n",
       "      <td>33</td>\n",
       "      <td>0.0</td>\n",
       "      <td>False</td>\n",
       "      <td>0.0</td>\n",
       "      <td>0.0</td>\n",
       "      <td>False</td>\n",
       "    </tr>\n",
       "    <tr>\n",
       "      <th>17</th>\n",
       "      <td>Nadia</td>\n",
       "      <td>34</td>\n",
       "      <td>8.0</td>\n",
       "      <td>Verdadero</td>\n",
       "      <td>3.2</td>\n",
       "      <td>11.2</td>\n",
       "      <td>True</td>\n",
       "    </tr>\n",
       "  </tbody>\n",
       "</table>\n",
       "</div>"
      ]
     },
     "execution_count": 68,
     "metadata": {},
     "output_type": "execute_result"
    }
   ],
   "execution_count": 68
  },
  {
   "metadata": {
    "ExecuteTime": {
     "end_time": "2025-08-03T06:08:32.987084Z",
     "start_time": "2025-08-03T06:08:32.974242Z"
    }
   },
   "cell_type": "code",
   "source": [
    "# Seleccionando estudiante que aprobo gracias a puntos extras\n",
    "students_data.query('Aprobado == \"False\" & Aprobado_final == True')"
   ],
   "id": "c4ddbed6f261fb01",
   "outputs": [
    {
     "data": {
      "text/plain": [
       "  Nombre  Edad  Nota Aprobado  Puntos_extra  Notas_finales  Aprobado_final\n",
       "3  David    18   5.0    False           2.0            7.0            True"
      ],
      "text/html": [
       "<div>\n",
       "<style scoped>\n",
       "    .dataframe tbody tr th:only-of-type {\n",
       "        vertical-align: middle;\n",
       "    }\n",
       "\n",
       "    .dataframe tbody tr th {\n",
       "        vertical-align: top;\n",
       "    }\n",
       "\n",
       "    .dataframe thead th {\n",
       "        text-align: right;\n",
       "    }\n",
       "</style>\n",
       "<table border=\"1\" class=\"dataframe\">\n",
       "  <thead>\n",
       "    <tr style=\"text-align: right;\">\n",
       "      <th></th>\n",
       "      <th>Nombre</th>\n",
       "      <th>Edad</th>\n",
       "      <th>Nota</th>\n",
       "      <th>Aprobado</th>\n",
       "      <th>Puntos_extra</th>\n",
       "      <th>Notas_finales</th>\n",
       "      <th>Aprobado_final</th>\n",
       "    </tr>\n",
       "  </thead>\n",
       "  <tbody>\n",
       "    <tr>\n",
       "      <th>3</th>\n",
       "      <td>David</td>\n",
       "      <td>18</td>\n",
       "      <td>5.0</td>\n",
       "      <td>False</td>\n",
       "      <td>2.0</td>\n",
       "      <td>7.0</td>\n",
       "      <td>True</td>\n",
       "    </tr>\n",
       "  </tbody>\n",
       "</table>\n",
       "</div>"
      ]
     },
     "execution_count": 71,
     "metadata": {},
     "output_type": "execute_result"
    }
   ],
   "execution_count": 71
  }
 ],
 "metadata": {
  "kernelspec": {
   "display_name": "Python [conda env:base] *",
   "language": "python",
   "name": "conda-base-py"
  },
  "language_info": {
   "codemirror_mode": {
    "name": "ipython",
    "version": 2
   },
   "file_extension": ".py",
   "mimetype": "text/x-python",
   "name": "python",
   "nbconvert_exporter": "python",
   "pygments_lexer": "ipython2",
   "version": "2.7.6"
  }
 },
 "nbformat": 4,
 "nbformat_minor": 5
}
