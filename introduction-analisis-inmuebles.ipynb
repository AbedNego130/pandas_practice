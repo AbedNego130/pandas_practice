{
 "cells": [
  {
   "metadata": {},
   "cell_type": "markdown",
   "source": [
    "# Introduccion a Pandas mediante el analisis de un archivo de precios inmuebles.\n",
    "Este cuaderno muestra algunos ejercicios basicos sobre el uso de la libreria Pandas para la gesiton de datos.\n",
    "## Importar base de datos"
   ],
   "id": "964d804cd9c6164c"
  },
  {
   "cell_type": "code",
   "id": "initial_id",
   "metadata": {
    "collapsed": true,
    "ExecuteTime": {
     "end_time": "2025-08-02T05:19:14.624494Z",
     "start_time": "2025-08-02T05:19:13.949950Z"
    }
   },
   "source": [
    "import pandas as pd\n",
    "from nltk.corpus import state_union\n",
    "\n",
    "rent_data = pd.read_csv('alquiler.csv', delimiter=';')\n",
    "\n",
    "print(rent_data)"
   ],
   "outputs": [
    {
     "name": "stdout",
     "output_type": "stream",
     "text": [
      "                          Tipo               Colonia  Habitaciones  Garages  \\\n",
      "0                     Cocineta               Condesa             1        0   \n",
      "1                         Casa               Polanco             2        0   \n",
      "2      Conjunto Comercial/Sala              Santa Fe             0        4   \n",
      "3                 Departamento      Centro Histórico             1        0   \n",
      "4                 Departamento             Del Valle             1        0   \n",
      "...                        ...                   ...           ...      ...   \n",
      "25116  Cochera/Estacionamiento      Centro Histórico             0        0   \n",
      "25117                 Cocineta      Centro Histórico             0        0   \n",
      "25118             Departamento               Mixcoac             2        1   \n",
      "25119             Departamento  Lomas de Chapultepec             2        0   \n",
      "25120  Conjunto Comercial/Sala      Centro Histórico             0        0   \n",
      "\n",
      "       Suites  Area    Valor  Condominio  Impuesto  \n",
      "0           0    40   5950.0      1750.0     210.0  \n",
      "1           1   100  24500.0         NaN       NaN  \n",
      "2           0   150  18200.0     14070.0    3888.5  \n",
      "3           0    15   2800.0      1365.0      70.0  \n",
      "4           0    48   2800.0       805.0       NaN  \n",
      "...       ...   ...      ...         ...       ...  \n",
      "25116       0   755  49000.0         NaN       NaN  \n",
      "25117       0    27   2800.0      1225.0      87.5  \n",
      "25118       0    48   4900.0      1781.5     129.5  \n",
      "25119       0    70  10500.0      2660.0       NaN  \n",
      "25120       0   250  22750.0     14721.0    3881.5  \n",
      "\n",
      "[25121 rows x 9 columns]\n"
     ]
    }
   ],
   "execution_count": 1
  },
  {
   "metadata": {},
   "cell_type": "markdown",
   "source": "## Vista de algunos datos",
   "id": "3507e736c78a62bc"
  },
  {
   "metadata": {
    "ExecuteTime": {
     "end_time": "2025-08-02T05:21:02.660635Z",
     "start_time": "2025-08-02T05:21:02.642636Z"
    }
   },
   "cell_type": "code",
   "source": [
    "# Visualizacion de los primeros y los ultimos datos\n",
    "print(rent_data.head())\n",
    "print(rent_data.tail())"
   ],
   "id": "d678930e8cd2aaa",
   "outputs": [
    {
     "name": "stdout",
     "output_type": "stream",
     "text": [
      "                      Tipo           Colonia  Habitaciones  Garages  Suites  \\\n",
      "0                 Cocineta           Condesa             1        0       0   \n",
      "1                     Casa           Polanco             2        0       1   \n",
      "2  Conjunto Comercial/Sala          Santa Fe             0        4       0   \n",
      "3             Departamento  Centro Histórico             1        0       0   \n",
      "4             Departamento         Del Valle             1        0       0   \n",
      "\n",
      "   Area    Valor  Condominio  Impuesto  \n",
      "0    40   5950.0      1750.0     210.0  \n",
      "1   100  24500.0         NaN       NaN  \n",
      "2   150  18200.0     14070.0    3888.5  \n",
      "3    15   2800.0      1365.0      70.0  \n",
      "4    48   2800.0       805.0       NaN  \n",
      "                          Tipo               Colonia  Habitaciones  Garages  \\\n",
      "25116  Cochera/Estacionamiento      Centro Histórico             0        0   \n",
      "25117                 Cocineta      Centro Histórico             0        0   \n",
      "25118             Departamento               Mixcoac             2        1   \n",
      "25119             Departamento  Lomas de Chapultepec             2        0   \n",
      "25120  Conjunto Comercial/Sala      Centro Histórico             0        0   \n",
      "\n",
      "       Suites  Area    Valor  Condominio  Impuesto  \n",
      "25116       0   755  49000.0         NaN       NaN  \n",
      "25117       0    27   2800.0      1225.0      87.5  \n",
      "25118       0    48   4900.0      1781.5     129.5  \n",
      "25119       0    70  10500.0      2660.0       NaN  \n",
      "25120       0   250  22750.0     14721.0    3881.5  \n"
     ]
    }
   ],
   "execution_count": 3
  },
  {
   "metadata": {
    "ExecuteTime": {
     "end_time": "2025-08-02T05:22:13.424469Z",
     "start_time": "2025-08-02T05:22:13.411948Z"
    }
   },
   "cell_type": "code",
   "source": [
    "#Visualizando los primero 10 datos\n",
    "print(rent_data.head(10))"
   ],
   "id": "e868a966f284dc1d",
   "outputs": [
    {
     "name": "stdout",
     "output_type": "stream",
     "text": [
      "                      Tipo           Colonia  Habitaciones  Garages  Suites  \\\n",
      "0                 Cocineta           Condesa             1        0       0   \n",
      "1                     Casa           Polanco             2        0       1   \n",
      "2  Conjunto Comercial/Sala          Santa Fe             0        4       0   \n",
      "3             Departamento  Centro Histórico             1        0       0   \n",
      "4             Departamento         Del Valle             1        0       0   \n",
      "5       Casa de Condominio          Santa Fe             5        4       5   \n",
      "6  Conjunto Comercial/Sala  Centro Histórico             0        3       0   \n",
      "7             Departamento  Centro Histórico             1        0       0   \n",
      "8             Departamento           Condesa             1        0       1   \n",
      "9                 Cocineta           Condesa             1        0       0   \n",
      "\n",
      "   Area     Valor  Condominio  Impuesto  \n",
      "0    40    5950.0      1750.0     210.0  \n",
      "1   100   24500.0         NaN       NaN  \n",
      "2   150   18200.0     14070.0    3888.5  \n",
      "3    15    2800.0      1365.0      70.0  \n",
      "4    48    2800.0       805.0       NaN  \n",
      "5   750   77000.0         NaN       NaN  \n",
      "6   695  122500.0     67175.5   10605.0  \n",
      "7    36    4200.0         NaN       NaN  \n",
      "8    40    7000.0      1963.5     175.0  \n",
      "9    27    6300.0      1753.5       NaN  \n"
     ]
    }
   ],
   "execution_count": 4
  },
  {
   "metadata": {
    "ExecuteTime": {
     "end_time": "2025-08-02T05:22:45.551682Z",
     "start_time": "2025-08-02T05:22:45.523655Z"
    }
   },
   "cell_type": "code",
   "source": [
    "# Muestra de una muestra de datos\n",
    "print(rent_data.sample(10))"
   ],
   "id": "28601b72b49352",
   "outputs": [
    {
     "name": "stdout",
     "output_type": "stream",
     "text": [
      "                          Tipo               Colonia  Habitaciones  Garages  \\\n",
      "24027  Conjunto Comercial/Sala      Centro Histórico             0        0   \n",
      "21175    Departamento en Hotel              Coyoacán             2        2   \n",
      "15210             Departamento              Coyoacán             3        2   \n",
      "683               Departamento             Del Valle             2        1   \n",
      "9013          Casa de Vecindad              Narvarte             3        3   \n",
      "5753              Departamento              Santa Fe             3        2   \n",
      "16059             Tienda/Salón  Santa Marta Acatitla             0        0   \n",
      "15510  Conjunto Comercial/Sala              Santa Fe             0       50   \n",
      "4951              Departamento              Coyoacán             1        1   \n",
      "22395             Departamento               Condesa             2        0   \n",
      "\n",
      "       Suites  Area     Valor  Condominio  Impuesto  \n",
      "24027       0    60    4200.0      2380.0     420.0  \n",
      "21175       2    80   19250.0      8400.0    1400.0  \n",
      "15210       1   117   22050.0      7700.0    1354.5  \n",
      "683         0    79    8050.0      2730.0     413.0  \n",
      "9013        1   300   17325.0       472.5     595.0  \n",
      "5753        1   145   15750.0      5250.0    1330.0  \n",
      "16059       0   160    2800.0         NaN       NaN  \n",
      "15510       0  1213  255500.0         NaN       NaN  \n",
      "4951        1   105   35000.0     10150.0    2450.0  \n",
      "22395       0    96    8750.0      3675.0    1190.0  \n"
     ]
    }
   ],
   "execution_count": 5
  },
  {
   "metadata": {
    "ExecuteTime": {
     "end_time": "2025-08-02T05:23:36.927858Z",
     "start_time": "2025-08-02T05:23:36.916569Z"
    }
   },
   "cell_type": "code",
   "source": [
    "# Imprimimos el tipo de datos de pandas\n",
    "print(type(rent_data))"
   ],
   "id": "3867076c5ff36836",
   "outputs": [
    {
     "data": {
      "text/plain": [
       "pandas.core.frame.DataFrame"
      ]
     },
     "execution_count": 6,
     "metadata": {},
     "output_type": "execute_result"
    }
   ],
   "execution_count": 6
  },
  {
   "metadata": {},
   "cell_type": "markdown",
   "source": [
    "## Caracteristicas generales de los datos\n",
    "Exploracion inicial de los datos de la libreria pandas"
   ],
   "id": "db943e0c24268f4d"
  },
  {
   "metadata": {
    "ExecuteTime": {
     "end_time": "2025-08-02T05:26:55.559108Z",
     "start_time": "2025-08-02T05:26:55.539072Z"
    }
   },
   "cell_type": "code",
   "source": [
    "# Tamaño del dataset\n",
    "rent_data.shape"
   ],
   "id": "136657dbb7e3fb60",
   "outputs": [
    {
     "data": {
      "text/plain": [
       "(25121, 9)"
      ]
     },
     "execution_count": 8,
     "metadata": {},
     "output_type": "execute_result"
    }
   ],
   "execution_count": 8
  },
  {
   "metadata": {
    "ExecuteTime": {
     "end_time": "2025-08-02T05:28:07.158809Z",
     "start_time": "2025-08-02T05:28:07.151791Z"
    }
   },
   "cell_type": "code",
   "source": [
    "# Columnas del dataset\n",
    "rent_data.columns"
   ],
   "id": "9ffb8a3664fea83",
   "outputs": [
    {
     "data": {
      "text/plain": [
       "Index(['Tipo', 'Colonia', 'Habitaciones', 'Garages', 'Suites', 'Area', 'Valor',\n",
       "       'Condominio', 'Impuesto'],\n",
       "      dtype='object')"
      ]
     },
     "execution_count": 10,
     "metadata": {},
     "output_type": "execute_result"
    }
   ],
   "execution_count": 10
  },
  {
   "metadata": {
    "ExecuteTime": {
     "end_time": "2025-08-02T05:28:55.421679Z",
     "start_time": "2025-08-02T05:28:55.396339Z"
    }
   },
   "cell_type": "code",
   "source": [
    "# Informacion general del dataset\n",
    "rent_data.info()"
   ],
   "id": "a091cdfcffb611a2",
   "outputs": [
    {
     "name": "stdout",
     "output_type": "stream",
     "text": [
      "<class 'pandas.core.frame.DataFrame'>\n",
      "RangeIndex: 25121 entries, 0 to 25120\n",
      "Data columns (total 9 columns):\n",
      " #   Column        Non-Null Count  Dtype  \n",
      "---  ------        --------------  -----  \n",
      " 0   Tipo          25121 non-null  object \n",
      " 1   Colonia       25121 non-null  object \n",
      " 2   Habitaciones  25121 non-null  int64  \n",
      " 3   Garages       25121 non-null  int64  \n",
      " 4   Suites        25121 non-null  int64  \n",
      " 5   Area          25121 non-null  int64  \n",
      " 6   Valor         25107 non-null  float64\n",
      " 7   Condominio    22495 non-null  float64\n",
      " 8   Impuesto      18037 non-null  float64\n",
      "dtypes: float64(3), int64(4), object(2)\n",
      "memory usage: 1.7+ MB\n"
     ]
    }
   ],
   "execution_count": 12
  },
  {
   "metadata": {
    "ExecuteTime": {
     "end_time": "2025-08-02T06:10:31.322130Z",
     "start_time": "2025-08-02T06:10:31.305083Z"
    }
   },
   "cell_type": "code",
   "source": [
    "# Vista de una columna\n",
    "rent_data['Tipo']"
   ],
   "id": "7e625f6c01ebe5b7",
   "outputs": [
    {
     "data": {
      "text/plain": [
       "0                       Cocineta\n",
       "1                           Casa\n",
       "2        Conjunto Comercial/Sala\n",
       "3                   Departamento\n",
       "4                   Departamento\n",
       "                  ...           \n",
       "25116    Cochera/Estacionamiento\n",
       "25117                   Cocineta\n",
       "25118               Departamento\n",
       "25119               Departamento\n",
       "25120    Conjunto Comercial/Sala\n",
       "Name: Tipo, Length: 25121, dtype: object"
      ]
     },
     "execution_count": 17,
     "metadata": {},
     "output_type": "execute_result"
    }
   ],
   "execution_count": 17
  },
  {
   "metadata": {
    "ExecuteTime": {
     "end_time": "2025-08-02T06:11:18.835567Z",
     "start_time": "2025-08-02T06:11:18.809511Z"
    }
   },
   "cell_type": "code",
   "source": [
    "# Vista de dos columnas, ahora devuelve un dataframe\n",
    "rent_data[['Habitaciones', 'Valor']]"
   ],
   "id": "c6d1252dfb69b387",
   "outputs": [
    {
     "data": {
      "text/plain": [
       "       Habitaciones    Valor\n",
       "0                 1   5950.0\n",
       "1                 2  24500.0\n",
       "2                 0  18200.0\n",
       "3                 1   2800.0\n",
       "4                 1   2800.0\n",
       "...             ...      ...\n",
       "25116             0  49000.0\n",
       "25117             0   2800.0\n",
       "25118             2   4900.0\n",
       "25119             2  10500.0\n",
       "25120             0  22750.0\n",
       "\n",
       "[25121 rows x 2 columns]"
      ],
      "text/html": [
       "<div>\n",
       "<style scoped>\n",
       "    .dataframe tbody tr th:only-of-type {\n",
       "        vertical-align: middle;\n",
       "    }\n",
       "\n",
       "    .dataframe tbody tr th {\n",
       "        vertical-align: top;\n",
       "    }\n",
       "\n",
       "    .dataframe thead th {\n",
       "        text-align: right;\n",
       "    }\n",
       "</style>\n",
       "<table border=\"1\" class=\"dataframe\">\n",
       "  <thead>\n",
       "    <tr style=\"text-align: right;\">\n",
       "      <th></th>\n",
       "      <th>Habitaciones</th>\n",
       "      <th>Valor</th>\n",
       "    </tr>\n",
       "  </thead>\n",
       "  <tbody>\n",
       "    <tr>\n",
       "      <th>0</th>\n",
       "      <td>1</td>\n",
       "      <td>5950.0</td>\n",
       "    </tr>\n",
       "    <tr>\n",
       "      <th>1</th>\n",
       "      <td>2</td>\n",
       "      <td>24500.0</td>\n",
       "    </tr>\n",
       "    <tr>\n",
       "      <th>2</th>\n",
       "      <td>0</td>\n",
       "      <td>18200.0</td>\n",
       "    </tr>\n",
       "    <tr>\n",
       "      <th>3</th>\n",
       "      <td>1</td>\n",
       "      <td>2800.0</td>\n",
       "    </tr>\n",
       "    <tr>\n",
       "      <th>4</th>\n",
       "      <td>1</td>\n",
       "      <td>2800.0</td>\n",
       "    </tr>\n",
       "    <tr>\n",
       "      <th>...</th>\n",
       "      <td>...</td>\n",
       "      <td>...</td>\n",
       "    </tr>\n",
       "    <tr>\n",
       "      <th>25116</th>\n",
       "      <td>0</td>\n",
       "      <td>49000.0</td>\n",
       "    </tr>\n",
       "    <tr>\n",
       "      <th>25117</th>\n",
       "      <td>0</td>\n",
       "      <td>2800.0</td>\n",
       "    </tr>\n",
       "    <tr>\n",
       "      <th>25118</th>\n",
       "      <td>2</td>\n",
       "      <td>4900.0</td>\n",
       "    </tr>\n",
       "    <tr>\n",
       "      <th>25119</th>\n",
       "      <td>2</td>\n",
       "      <td>10500.0</td>\n",
       "    </tr>\n",
       "    <tr>\n",
       "      <th>25120</th>\n",
       "      <td>0</td>\n",
       "      <td>22750.0</td>\n",
       "    </tr>\n",
       "  </tbody>\n",
       "</table>\n",
       "<p>25121 rows × 2 columns</p>\n",
       "</div>"
      ]
     },
     "execution_count": 19,
     "metadata": {},
     "output_type": "execute_result"
    }
   ],
   "execution_count": 19
  },
  {
   "metadata": {},
   "cell_type": "markdown",
   "source": [
    "## Ejercicios:\n",
    "1. Importa el archivo alumnos.csv y almacena su contenido en un DataFrame de Pandas.\n",
    "\n",
    "2. Visualiza las primeras 7 filas del DataFrame y las últimas 5.\n",
    "\n",
    "3. Verifica la cantidad de filas y columnas en este DataFrame.\n",
    "\n",
    "4. Explora las columnas del DataFrame y analiza los tipos de datos presentes en cada columna."
   ],
   "id": "b5325835d6c501c3"
  },
  {
   "metadata": {
    "ExecuteTime": {
     "end_time": "2025-08-02T06:15:32.751378Z",
     "start_time": "2025-08-02T06:15:32.723522Z"
    }
   },
   "cell_type": "code",
   "source": [
    "students_data = pd.read_csv('alumnos.csv')\n",
    "print(students_data.head(7))\n",
    "print(students_data.tail())\n",
    "print(students_data.shape)"
   ],
   "id": "524d9ed1f5ff1413",
   "outputs": [
    {
     "name": "stdout",
     "output_type": "stream",
     "text": [
      "    Nombre  Edad  Nota Aprobado\n",
      "0  Alberto    20   7.5     True\n",
      "1      Ana    18   NaN    False\n",
      "2   Camila    27   2.5    False\n",
      "3    David    18   5.0    False\n",
      "4    Brian    21  10.0     True\n",
      "5    Bruna    23   NaN    False\n",
      "6  Daniela    21   7.0     True\n",
      "    Nombre  Edad  Nota   Aprobado\n",
      "13  Miriam    25   9.0       True\n",
      "14   Pablo    37   NaN      False\n",
      "15  Milena    29   7.0       True\n",
      "16   Lucas    33   NaN      False\n",
      "17   Nadia    34   8.0  Verdadero\n",
      "(18, 4)\n"
     ]
    }
   ],
   "execution_count": 20
  },
  {
   "metadata": {
    "ExecuteTime": {
     "end_time": "2025-08-02T06:15:56.434854Z",
     "start_time": "2025-08-02T06:15:56.407275Z"
    }
   },
   "cell_type": "code",
   "source": "print(students_data.info())",
   "id": "bc8c144c8634cd4b",
   "outputs": [
    {
     "name": "stdout",
     "output_type": "stream",
     "text": [
      "<class 'pandas.core.frame.DataFrame'>\n",
      "RangeIndex: 18 entries, 0 to 17\n",
      "Data columns (total 4 columns):\n",
      " #   Column    Non-Null Count  Dtype  \n",
      "---  ------    --------------  -----  \n",
      " 0   Nombre    18 non-null     object \n",
      " 1   Edad      18 non-null     int64  \n",
      " 2   Nota      12 non-null     float64\n",
      " 3   Aprobado  18 non-null     object \n",
      "dtypes: float64(1), int64(1), object(2)\n",
      "memory usage: 704.0+ bytes\n",
      "None\n"
     ]
    }
   ],
   "execution_count": 21
  },
  {
   "metadata": {
    "ExecuteTime": {
     "end_time": "2025-08-02T06:17:09.356115Z",
     "start_time": "2025-08-02T06:17:09.328226Z"
    }
   },
   "cell_type": "code",
   "source": [
    "# Datos generales numericos de la tabla\n",
    "print(students_data.describe())"
   ],
   "id": "2e270877d54a7373",
   "outputs": [
    {
     "name": "stdout",
     "output_type": "stream",
     "text": [
      "            Edad       Nota\n",
      "count  18.000000  12.000000\n",
      "mean   25.500000   6.841667\n",
      "std     6.070662   2.264532\n",
      "min    18.000000   2.500000\n",
      "25%    21.000000   5.450000\n",
      "50%    24.500000   7.000000\n",
      "75%    28.750000   8.250000\n",
      "max    37.000000  10.000000\n"
     ]
    }
   ],
   "execution_count": 22
  },
  {
   "metadata": {},
   "cell_type": "code",
   "outputs": [],
   "execution_count": null,
   "source": "",
   "id": "99f71199628323d5"
  }
 ],
 "metadata": {
  "kernelspec": {
   "display_name": "Python [conda env:base] *",
   "language": "python",
   "name": "conda-base-py"
  },
  "language_info": {
   "codemirror_mode": {
    "name": "ipython",
    "version": 2
   },
   "file_extension": ".py",
   "mimetype": "text/x-python",
   "name": "python",
   "nbconvert_exporter": "python",
   "pygments_lexer": "ipython2",
   "version": "2.7.6"
  }
 },
 "nbformat": 4,
 "nbformat_minor": 5
}
